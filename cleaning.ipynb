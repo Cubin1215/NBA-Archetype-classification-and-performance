{
 "cells": [
  {
   "cell_type": "code",
   "execution_count": 5,
   "metadata": {},
   "outputs": [],
   "source": [
    "from sklearn.preprocessing import StandardScaler\n",
    "from sklearn.cluster import KMeans\n",
    "import matplotlib.pyplot as plt\n",
    "import seaborn as sns\n",
    "import numpy as np\n",
    "import pandas as pd"
   ]
  },
  {
   "cell_type": "code",
   "execution_count": 6,
   "metadata": {},
   "outputs": [
    {
     "name": "stdout",
     "output_type": "stream",
     "text": [
      "<class 'pandas.core.frame.DataFrame'>\n",
      "RangeIndex: 705 entries, 0 to 704\n",
      "Data columns (total 29 columns):\n",
      " #   Column  Non-Null Count  Dtype  \n",
      "---  ------  --------------  -----  \n",
      " 0   Player  679 non-null    object \n",
      " 1   Pos     679 non-null    object \n",
      " 2   Age     679 non-null    float64\n",
      " 3   Tm      679 non-null    object \n",
      " 4   G       679 non-null    float64\n",
      " 5   GS      679 non-null    float64\n",
      " 6   MP      679 non-null    float64\n",
      " 7   FG      679 non-null    float64\n",
      " 8   FGA     679 non-null    float64\n",
      " 9   FG%     676 non-null    float64\n",
      " 10  3P      679 non-null    float64\n",
      " 11  3PA     679 non-null    float64\n",
      " 12  3P%     655 non-null    float64\n",
      " 13  2P      679 non-null    float64\n",
      " 14  2PA     679 non-null    float64\n",
      " 15  2P%     672 non-null    float64\n",
      " 16  eFG%    676 non-null    float64\n",
      " 17  FT      679 non-null    float64\n",
      " 18  FTA     679 non-null    float64\n",
      " 19  FT%     642 non-null    float64\n",
      " 20  ORB     679 non-null    float64\n",
      " 21  DRB     679 non-null    float64\n",
      " 22  TRB     679 non-null    float64\n",
      " 23  AST     679 non-null    float64\n",
      " 24  STL     679 non-null    float64\n",
      " 25  BLK     679 non-null    float64\n",
      " 26  TOV     679 non-null    float64\n",
      " 27  PF      679 non-null    float64\n",
      " 28  PTS     679 non-null    float64\n",
      "dtypes: float64(26), object(3)\n",
      "memory usage: 159.9+ KB\n"
     ]
    },
    {
     "data": {
      "text/html": [
       "<div>\n",
       "<style scoped>\n",
       "    .dataframe tbody tr th:only-of-type {\n",
       "        vertical-align: middle;\n",
       "    }\n",
       "\n",
       "    .dataframe tbody tr th {\n",
       "        vertical-align: top;\n",
       "    }\n",
       "\n",
       "    .dataframe thead th {\n",
       "        text-align: right;\n",
       "    }\n",
       "</style>\n",
       "<table border=\"1\" class=\"dataframe\">\n",
       "  <thead>\n",
       "    <tr style=\"text-align: right;\">\n",
       "      <th></th>\n",
       "      <th>Age</th>\n",
       "      <th>G</th>\n",
       "      <th>GS</th>\n",
       "      <th>MP</th>\n",
       "      <th>FG</th>\n",
       "      <th>FGA</th>\n",
       "      <th>FG%</th>\n",
       "      <th>3P</th>\n",
       "      <th>3PA</th>\n",
       "      <th>3P%</th>\n",
       "      <th>...</th>\n",
       "      <th>FT%</th>\n",
       "      <th>ORB</th>\n",
       "      <th>DRB</th>\n",
       "      <th>TRB</th>\n",
       "      <th>AST</th>\n",
       "      <th>STL</th>\n",
       "      <th>BLK</th>\n",
       "      <th>TOV</th>\n",
       "      <th>PF</th>\n",
       "      <th>PTS</th>\n",
       "    </tr>\n",
       "  </thead>\n",
       "  <tbody>\n",
       "    <tr>\n",
       "      <th>count</th>\n",
       "      <td>679.000000</td>\n",
       "      <td>679.000000</td>\n",
       "      <td>679.000000</td>\n",
       "      <td>679.000000</td>\n",
       "      <td>679.000000</td>\n",
       "      <td>679.000000</td>\n",
       "      <td>676.000000</td>\n",
       "      <td>679.000000</td>\n",
       "      <td>679.000000</td>\n",
       "      <td>655.000000</td>\n",
       "      <td>...</td>\n",
       "      <td>642.000000</td>\n",
       "      <td>679.000000</td>\n",
       "      <td>679.000000</td>\n",
       "      <td>679.000000</td>\n",
       "      <td>679.000000</td>\n",
       "      <td>679.000000</td>\n",
       "      <td>679.000000</td>\n",
       "      <td>679.000000</td>\n",
       "      <td>679.000000</td>\n",
       "      <td>679.000000</td>\n",
       "    </tr>\n",
       "    <tr>\n",
       "      <th>mean</th>\n",
       "      <td>26.025037</td>\n",
       "      <td>43.337261</td>\n",
       "      <td>20.069219</td>\n",
       "      <td>19.464212</td>\n",
       "      <td>3.249337</td>\n",
       "      <td>6.921060</td>\n",
       "      <td>0.464241</td>\n",
       "      <td>0.996613</td>\n",
       "      <td>2.783063</td>\n",
       "      <td>0.329798</td>\n",
       "      <td>...</td>\n",
       "      <td>0.752586</td>\n",
       "      <td>0.842268</td>\n",
       "      <td>2.620324</td>\n",
       "      <td>3.461708</td>\n",
       "      <td>2.011782</td>\n",
       "      <td>0.601767</td>\n",
       "      <td>0.370545</td>\n",
       "      <td>1.067305</td>\n",
       "      <td>1.660825</td>\n",
       "      <td>8.859057</td>\n",
       "    </tr>\n",
       "    <tr>\n",
       "      <th>std</th>\n",
       "      <td>4.325709</td>\n",
       "      <td>24.729145</td>\n",
       "      <td>25.766359</td>\n",
       "      <td>9.415320</td>\n",
       "      <td>2.362501</td>\n",
       "      <td>4.795565</td>\n",
       "      <td>0.112790</td>\n",
       "      <td>0.862033</td>\n",
       "      <td>2.209284</td>\n",
       "      <td>0.128238</td>\n",
       "      <td>...</td>\n",
       "      <td>0.150094</td>\n",
       "      <td>0.731867</td>\n",
       "      <td>1.715881</td>\n",
       "      <td>2.281077</td>\n",
       "      <td>1.891335</td>\n",
       "      <td>0.392063</td>\n",
       "      <td>0.367465</td>\n",
       "      <td>0.799478</td>\n",
       "      <td>0.770299</td>\n",
       "      <td>6.630944</td>\n",
       "    </tr>\n",
       "    <tr>\n",
       "      <th>min</th>\n",
       "      <td>19.000000</td>\n",
       "      <td>1.000000</td>\n",
       "      <td>0.000000</td>\n",
       "      <td>1.000000</td>\n",
       "      <td>0.000000</td>\n",
       "      <td>0.000000</td>\n",
       "      <td>0.000000</td>\n",
       "      <td>0.000000</td>\n",
       "      <td>0.000000</td>\n",
       "      <td>0.000000</td>\n",
       "      <td>...</td>\n",
       "      <td>0.000000</td>\n",
       "      <td>0.000000</td>\n",
       "      <td>0.000000</td>\n",
       "      <td>0.000000</td>\n",
       "      <td>0.000000</td>\n",
       "      <td>0.000000</td>\n",
       "      <td>0.000000</td>\n",
       "      <td>0.000000</td>\n",
       "      <td>0.000000</td>\n",
       "      <td>0.000000</td>\n",
       "    </tr>\n",
       "    <tr>\n",
       "      <th>25%</th>\n",
       "      <td>23.000000</td>\n",
       "      <td>22.000000</td>\n",
       "      <td>0.000000</td>\n",
       "      <td>12.150000</td>\n",
       "      <td>1.500000</td>\n",
       "      <td>3.400000</td>\n",
       "      <td>0.415000</td>\n",
       "      <td>0.300000</td>\n",
       "      <td>1.000000</td>\n",
       "      <td>0.297000</td>\n",
       "      <td>...</td>\n",
       "      <td>0.686500</td>\n",
       "      <td>0.300000</td>\n",
       "      <td>1.400000</td>\n",
       "      <td>1.800000</td>\n",
       "      <td>0.800000</td>\n",
       "      <td>0.300000</td>\n",
       "      <td>0.100000</td>\n",
       "      <td>0.500000</td>\n",
       "      <td>1.200000</td>\n",
       "      <td>4.100000</td>\n",
       "    </tr>\n",
       "    <tr>\n",
       "      <th>50%</th>\n",
       "      <td>25.000000</td>\n",
       "      <td>45.000000</td>\n",
       "      <td>6.000000</td>\n",
       "      <td>18.800000</td>\n",
       "      <td>2.600000</td>\n",
       "      <td>5.700000</td>\n",
       "      <td>0.454000</td>\n",
       "      <td>0.800000</td>\n",
       "      <td>2.400000</td>\n",
       "      <td>0.349000</td>\n",
       "      <td>...</td>\n",
       "      <td>0.769000</td>\n",
       "      <td>0.700000</td>\n",
       "      <td>2.300000</td>\n",
       "      <td>3.000000</td>\n",
       "      <td>1.300000</td>\n",
       "      <td>0.500000</td>\n",
       "      <td>0.300000</td>\n",
       "      <td>0.900000</td>\n",
       "      <td>1.600000</td>\n",
       "      <td>6.900000</td>\n",
       "    </tr>\n",
       "    <tr>\n",
       "      <th>75%</th>\n",
       "      <td>29.000000</td>\n",
       "      <td>65.500000</td>\n",
       "      <td>36.500000</td>\n",
       "      <td>27.550000</td>\n",
       "      <td>4.200000</td>\n",
       "      <td>9.200000</td>\n",
       "      <td>0.506000</td>\n",
       "      <td>1.500000</td>\n",
       "      <td>4.150000</td>\n",
       "      <td>0.389000</td>\n",
       "      <td>...</td>\n",
       "      <td>0.844750</td>\n",
       "      <td>1.100000</td>\n",
       "      <td>3.400000</td>\n",
       "      <td>4.500000</td>\n",
       "      <td>2.700000</td>\n",
       "      <td>0.800000</td>\n",
       "      <td>0.500000</td>\n",
       "      <td>1.400000</td>\n",
       "      <td>2.200000</td>\n",
       "      <td>11.550000</td>\n",
       "    </tr>\n",
       "    <tr>\n",
       "      <th>max</th>\n",
       "      <td>42.000000</td>\n",
       "      <td>83.000000</td>\n",
       "      <td>83.000000</td>\n",
       "      <td>41.000000</td>\n",
       "      <td>11.200000</td>\n",
       "      <td>22.200000</td>\n",
       "      <td>1.000000</td>\n",
       "      <td>4.900000</td>\n",
       "      <td>11.400000</td>\n",
       "      <td>1.000000</td>\n",
       "      <td>...</td>\n",
       "      <td>1.000000</td>\n",
       "      <td>5.100000</td>\n",
       "      <td>9.600000</td>\n",
       "      <td>12.500000</td>\n",
       "      <td>10.700000</td>\n",
       "      <td>3.000000</td>\n",
       "      <td>3.000000</td>\n",
       "      <td>4.100000</td>\n",
       "      <td>5.000000</td>\n",
       "      <td>33.100000</td>\n",
       "    </tr>\n",
       "  </tbody>\n",
       "</table>\n",
       "<p>8 rows × 26 columns</p>\n",
       "</div>"
      ],
      "text/plain": [
       "              Age           G          GS          MP          FG         FGA  \\\n",
       "count  679.000000  679.000000  679.000000  679.000000  679.000000  679.000000   \n",
       "mean    26.025037   43.337261   20.069219   19.464212    3.249337    6.921060   \n",
       "std      4.325709   24.729145   25.766359    9.415320    2.362501    4.795565   \n",
       "min     19.000000    1.000000    0.000000    1.000000    0.000000    0.000000   \n",
       "25%     23.000000   22.000000    0.000000   12.150000    1.500000    3.400000   \n",
       "50%     25.000000   45.000000    6.000000   18.800000    2.600000    5.700000   \n",
       "75%     29.000000   65.500000   36.500000   27.550000    4.200000    9.200000   \n",
       "max     42.000000   83.000000   83.000000   41.000000   11.200000   22.200000   \n",
       "\n",
       "              FG%          3P         3PA         3P%  ...         FT%  \\\n",
       "count  676.000000  679.000000  679.000000  655.000000  ...  642.000000   \n",
       "mean     0.464241    0.996613    2.783063    0.329798  ...    0.752586   \n",
       "std      0.112790    0.862033    2.209284    0.128238  ...    0.150094   \n",
       "min      0.000000    0.000000    0.000000    0.000000  ...    0.000000   \n",
       "25%      0.415000    0.300000    1.000000    0.297000  ...    0.686500   \n",
       "50%      0.454000    0.800000    2.400000    0.349000  ...    0.769000   \n",
       "75%      0.506000    1.500000    4.150000    0.389000  ...    0.844750   \n",
       "max      1.000000    4.900000   11.400000    1.000000  ...    1.000000   \n",
       "\n",
       "              ORB         DRB         TRB         AST         STL         BLK  \\\n",
       "count  679.000000  679.000000  679.000000  679.000000  679.000000  679.000000   \n",
       "mean     0.842268    2.620324    3.461708    2.011782    0.601767    0.370545   \n",
       "std      0.731867    1.715881    2.281077    1.891335    0.392063    0.367465   \n",
       "min      0.000000    0.000000    0.000000    0.000000    0.000000    0.000000   \n",
       "25%      0.300000    1.400000    1.800000    0.800000    0.300000    0.100000   \n",
       "50%      0.700000    2.300000    3.000000    1.300000    0.500000    0.300000   \n",
       "75%      1.100000    3.400000    4.500000    2.700000    0.800000    0.500000   \n",
       "max      5.100000    9.600000   12.500000   10.700000    3.000000    3.000000   \n",
       "\n",
       "              TOV          PF         PTS  \n",
       "count  679.000000  679.000000  679.000000  \n",
       "mean     1.067305    1.660825    8.859057  \n",
       "std      0.799478    0.770299    6.630944  \n",
       "min      0.000000    0.000000    0.000000  \n",
       "25%      0.500000    1.200000    4.100000  \n",
       "50%      0.900000    1.600000    6.900000  \n",
       "75%      1.400000    2.200000   11.550000  \n",
       "max      4.100000    5.000000   33.100000  \n",
       "\n",
       "[8 rows x 26 columns]"
      ]
     },
     "execution_count": 6,
     "metadata": {},
     "output_type": "execute_result"
    }
   ],
   "source": [
    "\n",
    "\n",
    "df = pd.read_csv(\"nba_data_processed.csv\")\n",
    "\n",
    "df.head()\n",
    "\n",
    "df.info()\n",
    "\n",
    "df.describe()\n"
   ]
  },
  {
   "cell_type": "code",
   "execution_count": 7,
   "metadata": {},
   "outputs": [
    {
     "data": {
      "text/plain": [
       "Index(['Player', 'Pos', 'Age', 'Tm', 'G', 'GS', 'MP', 'FG', 'FGA', 'FG%', '3P',\n",
       "       '3PA', '3P%', '2P', '2PA', '2P%', 'eFG%', 'FT', 'FTA', 'FT%', 'ORB',\n",
       "       'DRB', 'TRB', 'AST', 'STL', 'BLK', 'TOV', 'PF', 'PTS'],\n",
       "      dtype='object')"
      ]
     },
     "execution_count": 7,
     "metadata": {},
     "output_type": "execute_result"
    }
   ],
   "source": [
    "df.columns"
   ]
  },
  {
   "cell_type": "code",
   "execution_count": 8,
   "metadata": {},
   "outputs": [
    {
     "name": "stdout",
     "output_type": "stream",
     "text": [
      "705\n",
      "679\n"
     ]
    }
   ],
   "source": [
    "print(len(df))\n",
    "df = df.dropna(subset=[\"Player\"])\n",
    "print(len(df))"
   ]
  },
  {
   "cell_type": "code",
   "execution_count": 9,
   "metadata": {},
   "outputs": [
    {
     "name": "stdout",
     "output_type": "stream",
     "text": [
      "Player 0\n",
      "Pos 0\n",
      "Age 0\n",
      "Tm 0\n",
      "G 0\n",
      "GS 0\n",
      "MP 0\n",
      "FG 0\n",
      "FGA 0\n",
      "FG% 3\n",
      "3P 0\n",
      "3PA 0\n",
      "3P% 24\n",
      "2P 0\n",
      "2PA 0\n",
      "2P% 7\n",
      "eFG% 3\n",
      "FT 0\n",
      "FTA 0\n",
      "FT% 37\n",
      "ORB 0\n",
      "DRB 0\n",
      "TRB 0\n",
      "AST 0\n",
      "STL 0\n",
      "BLK 0\n",
      "TOV 0\n",
      "PF 0\n",
      "PTS 0\n"
     ]
    }
   ],
   "source": [
    "for i in df.columns:\n",
    "    print(i, df[i].isna().sum())"
   ]
  },
  {
   "cell_type": "code",
   "execution_count": 10,
   "metadata": {},
   "outputs": [],
   "source": [
    "df[\"FG%\"] = df[\"FG%\"].fillna(0.0)\n",
    "df[\"3P%\"] = df[\"3P%\"].fillna(0.0)\n",
    "df[\"2P%\"] = df[\"2P%\"].fillna(0.0)\n",
    "df[\"FT%\"] = df[\"FT%\"].fillna(0.0)\n",
    "df[\"eFG%\"] = df[\"eFG%\"].fillna(0.0)"
   ]
  },
  {
   "cell_type": "code",
   "execution_count": 11,
   "metadata": {},
   "outputs": [
    {
     "name": "stdout",
     "output_type": "stream",
     "text": [
      "43.337260677466865\n",
      "1.0\n",
      "83.0\n",
      "19.464212076583213\n",
      "1.0\n",
      "41.0\n"
     ]
    }
   ],
   "source": [
    "print(df[\"G\"].mean())\n",
    "print(df[\"G\"].min())\n",
    "print(df[\"G\"].max())\n",
    "\n",
    "print(df[\"MP\"].mean())\n",
    "print(df[\"MP\"].min())\n",
    "print(df[\"MP\"].max())\n",
    "\n"
   ]
  },
  {
   "cell_type": "code",
   "execution_count": 12,
   "metadata": {},
   "outputs": [
    {
     "name": "stdout",
     "output_type": "stream",
     "text": [
      "Empty DataFrame\n",
      "Columns: [Player, Pos, Age, Tm, G, GS, MP, FG, FGA, FG%, 3P, 3PA, 3P%, 2P, 2PA, 2P%, eFG%, FT, FTA, FT%, ORB, DRB, TRB, AST, STL, BLK, TOV, PF, PTS]\n",
      "Index: []\n",
      "\n",
      "[0 rows x 29 columns]\n",
      "Empty DataFrame\n",
      "Columns: [Player, Pos, Age, Tm, G, GS, MP, FG, FGA, FG%, 3P, 3PA, 3P%, 2P, 2PA, 2P%, eFG%, FT, FTA, FT%, ORB, DRB, TRB, AST, STL, BLK, TOV, PF, PTS]\n",
      "Index: []\n",
      "\n",
      "[0 rows x 29 columns]\n"
     ]
    }
   ],
   "source": [
    "def find_outliers_iqr(df, column):\n",
    "    Q1 = df[column].quantile(0.25)\n",
    "    Q3 = df[column].quantile(0.75)\n",
    "    IQR = Q3 - Q1\n",
    "    lower_bound = Q1 - 1.5 * IQR\n",
    "    upper_bound = Q3 + 1.5 * IQR\n",
    "    outliers = df[(df[column] < lower_bound) | (df[column] > upper_bound)]\n",
    "    return outliers\n",
    "\n",
    "# Example: Check outliers in 'PTS' column\n",
    "outliers_pts_G = find_outliers_iqr(df, 'G')\n",
    "print(outliers_pts_G)\n",
    "outliers_pts_MP = find_outliers_iqr(df, 'MP')\n",
    "print(outliers_pts_MP)"
   ]
  },
  {
   "cell_type": "code",
   "execution_count": 13,
   "metadata": {},
   "outputs": [
    {
     "data": {
      "text/html": [
       "<div>\n",
       "<style scoped>\n",
       "    .dataframe tbody tr th:only-of-type {\n",
       "        vertical-align: middle;\n",
       "    }\n",
       "\n",
       "    .dataframe tbody tr th {\n",
       "        vertical-align: top;\n",
       "    }\n",
       "\n",
       "    .dataframe thead th {\n",
       "        text-align: right;\n",
       "    }\n",
       "</style>\n",
       "<table border=\"1\" class=\"dataframe\">\n",
       "  <thead>\n",
       "    <tr style=\"text-align: right;\">\n",
       "      <th></th>\n",
       "      <th>Player</th>\n",
       "      <th>Pos</th>\n",
       "      <th>Age</th>\n",
       "      <th>Tm</th>\n",
       "      <th>G</th>\n",
       "      <th>GS</th>\n",
       "      <th>MP</th>\n",
       "      <th>FG</th>\n",
       "      <th>FGA</th>\n",
       "      <th>FG%</th>\n",
       "      <th>...</th>\n",
       "      <th>FT%</th>\n",
       "      <th>ORB</th>\n",
       "      <th>DRB</th>\n",
       "      <th>TRB</th>\n",
       "      <th>AST</th>\n",
       "      <th>STL</th>\n",
       "      <th>BLK</th>\n",
       "      <th>TOV</th>\n",
       "      <th>PF</th>\n",
       "      <th>PTS</th>\n",
       "    </tr>\n",
       "  </thead>\n",
       "  <tbody>\n",
       "    <tr>\n",
       "      <th>0</th>\n",
       "      <td>Precious Achiuwa</td>\n",
       "      <td>C</td>\n",
       "      <td>23.0</td>\n",
       "      <td>TOR</td>\n",
       "      <td>55.0</td>\n",
       "      <td>12.0</td>\n",
       "      <td>20.7</td>\n",
       "      <td>3.6</td>\n",
       "      <td>7.3</td>\n",
       "      <td>0.485</td>\n",
       "      <td>...</td>\n",
       "      <td>0.702</td>\n",
       "      <td>1.8</td>\n",
       "      <td>4.1</td>\n",
       "      <td>6.0</td>\n",
       "      <td>0.9</td>\n",
       "      <td>0.6</td>\n",
       "      <td>0.5</td>\n",
       "      <td>1.1</td>\n",
       "      <td>1.9</td>\n",
       "      <td>9.2</td>\n",
       "    </tr>\n",
       "    <tr>\n",
       "      <th>1</th>\n",
       "      <td>Steven Adams</td>\n",
       "      <td>C</td>\n",
       "      <td>29.0</td>\n",
       "      <td>MEM</td>\n",
       "      <td>42.0</td>\n",
       "      <td>42.0</td>\n",
       "      <td>27.0</td>\n",
       "      <td>3.7</td>\n",
       "      <td>6.3</td>\n",
       "      <td>0.597</td>\n",
       "      <td>...</td>\n",
       "      <td>0.364</td>\n",
       "      <td>5.1</td>\n",
       "      <td>6.5</td>\n",
       "      <td>11.5</td>\n",
       "      <td>2.3</td>\n",
       "      <td>0.9</td>\n",
       "      <td>1.1</td>\n",
       "      <td>1.9</td>\n",
       "      <td>2.3</td>\n",
       "      <td>8.6</td>\n",
       "    </tr>\n",
       "    <tr>\n",
       "      <th>2</th>\n",
       "      <td>Bam Adebayo</td>\n",
       "      <td>C</td>\n",
       "      <td>25.0</td>\n",
       "      <td>MIA</td>\n",
       "      <td>75.0</td>\n",
       "      <td>75.0</td>\n",
       "      <td>34.6</td>\n",
       "      <td>8.0</td>\n",
       "      <td>14.9</td>\n",
       "      <td>0.540</td>\n",
       "      <td>...</td>\n",
       "      <td>0.806</td>\n",
       "      <td>2.5</td>\n",
       "      <td>6.7</td>\n",
       "      <td>9.2</td>\n",
       "      <td>3.2</td>\n",
       "      <td>1.2</td>\n",
       "      <td>0.8</td>\n",
       "      <td>2.5</td>\n",
       "      <td>2.8</td>\n",
       "      <td>20.4</td>\n",
       "    </tr>\n",
       "    <tr>\n",
       "      <th>3</th>\n",
       "      <td>Ochai Agbaji</td>\n",
       "      <td>SG</td>\n",
       "      <td>22.0</td>\n",
       "      <td>UTA</td>\n",
       "      <td>59.0</td>\n",
       "      <td>22.0</td>\n",
       "      <td>20.5</td>\n",
       "      <td>2.8</td>\n",
       "      <td>6.5</td>\n",
       "      <td>0.427</td>\n",
       "      <td>...</td>\n",
       "      <td>0.812</td>\n",
       "      <td>0.7</td>\n",
       "      <td>1.3</td>\n",
       "      <td>2.1</td>\n",
       "      <td>1.1</td>\n",
       "      <td>0.3</td>\n",
       "      <td>0.3</td>\n",
       "      <td>0.7</td>\n",
       "      <td>1.7</td>\n",
       "      <td>7.9</td>\n",
       "    </tr>\n",
       "    <tr>\n",
       "      <th>4</th>\n",
       "      <td>Santi Aldama</td>\n",
       "      <td>PF</td>\n",
       "      <td>22.0</td>\n",
       "      <td>MEM</td>\n",
       "      <td>77.0</td>\n",
       "      <td>20.0</td>\n",
       "      <td>21.8</td>\n",
       "      <td>3.2</td>\n",
       "      <td>6.8</td>\n",
       "      <td>0.470</td>\n",
       "      <td>...</td>\n",
       "      <td>0.750</td>\n",
       "      <td>1.1</td>\n",
       "      <td>3.7</td>\n",
       "      <td>4.8</td>\n",
       "      <td>1.3</td>\n",
       "      <td>0.6</td>\n",
       "      <td>0.6</td>\n",
       "      <td>0.8</td>\n",
       "      <td>1.9</td>\n",
       "      <td>9.0</td>\n",
       "    </tr>\n",
       "  </tbody>\n",
       "</table>\n",
       "<p>5 rows × 29 columns</p>\n",
       "</div>"
      ],
      "text/plain": [
       "             Player Pos   Age   Tm     G    GS    MP   FG   FGA    FG%  ...  \\\n",
       "0  Precious Achiuwa   C  23.0  TOR  55.0  12.0  20.7  3.6   7.3  0.485  ...   \n",
       "1      Steven Adams   C  29.0  MEM  42.0  42.0  27.0  3.7   6.3  0.597  ...   \n",
       "2       Bam Adebayo   C  25.0  MIA  75.0  75.0  34.6  8.0  14.9  0.540  ...   \n",
       "3      Ochai Agbaji  SG  22.0  UTA  59.0  22.0  20.5  2.8   6.5  0.427  ...   \n",
       "4      Santi Aldama  PF  22.0  MEM  77.0  20.0  21.8  3.2   6.8  0.470  ...   \n",
       "\n",
       "     FT%  ORB  DRB   TRB  AST  STL  BLK  TOV   PF   PTS  \n",
       "0  0.702  1.8  4.1   6.0  0.9  0.6  0.5  1.1  1.9   9.2  \n",
       "1  0.364  5.1  6.5  11.5  2.3  0.9  1.1  1.9  2.3   8.6  \n",
       "2  0.806  2.5  6.7   9.2  3.2  1.2  0.8  2.5  2.8  20.4  \n",
       "3  0.812  0.7  1.3   2.1  1.1  0.3  0.3  0.7  1.7   7.9  \n",
       "4  0.750  1.1  3.7   4.8  1.3  0.6  0.6  0.8  1.9   9.0  \n",
       "\n",
       "[5 rows x 29 columns]"
      ]
     },
     "execution_count": 13,
     "metadata": {},
     "output_type": "execute_result"
    }
   ],
   "source": [
    "# Filter rows where G (Games) >= 10\n",
    "df = df[df[\"G\"] >= 10]\n",
    "df.head()"
   ]
  },
  {
   "cell_type": "code",
   "execution_count": 14,
   "metadata": {},
   "outputs": [
    {
     "data": {
      "text/plain": [
       "517"
      ]
     },
     "execution_count": 14,
     "metadata": {},
     "output_type": "execute_result"
    }
   ],
   "source": [
    "df = df[df[\"MP\"] >= 10]\n",
    "len(df)"
   ]
  },
  {
   "cell_type": "code",
   "execution_count": 15,
   "metadata": {},
   "outputs": [
    {
     "name": "stdout",
     "output_type": "stream",
     "text": [
      "New per-36-minute columns added:\n",
      "- FG_per36\n",
      "- FGA_per36\n",
      "- 3P_per36\n",
      "- 3PA_per36\n",
      "- 2P_per36\n",
      "- 2PA_per36\n",
      "- FT_per36\n",
      "- FTA_per36\n",
      "- ORB_per36\n",
      "- DRB_per36\n",
      "- TRB_per36\n",
      "- AST_per36\n",
      "- STL_per36\n",
      "- BLK_per36\n",
      "- TOV_per36\n",
      "- PF_per36\n",
      "- PTS_per36\n",
      "\n",
      "Sample of data with per-36-minute stats:\n",
      "             Player    MP   PTS  PTS_per36  AST  AST_per36\n",
      "0  Precious Achiuwa  20.7   9.2  16.000000  0.9   1.565217\n",
      "1      Steven Adams  27.0   8.6  11.466667  2.3   3.066667\n",
      "2       Bam Adebayo  34.6  20.4  21.225434  3.2   3.329480\n",
      "3      Ochai Agbaji  20.5   7.9  13.873171  1.1   1.931707\n",
      "4      Santi Aldama  21.8   9.0  14.862385  1.3   2.146789\n"
     ]
    }
   ],
   "source": [
    "# Calculate per-36-minute statistics\n",
    "stats_to_convert = ['FG', 'FGA', '3P', '3PA', '2P', '2PA', 'FT', 'FTA', 'ORB', 'DRB', 'TRB', 'AST', 'STL', 'BLK', 'TOV', 'PF', 'PTS']\n",
    "\n",
    "for stat in stats_to_convert:\n",
    "    column_name = f\"{stat}_per36\"\n",
    "    df[column_name] = (df[stat] / df['MP']) * 36\n",
    "\n",
    "# Display the new columns\n",
    "print(\"New per-36-minute columns added:\")\n",
    "for stat in stats_to_convert:\n",
    "    print(f\"- {stat}_per36\")\n",
    "\n",
    "# Show a few rows with the new columns\n",
    "print(\"\\nSample of data with per-36-minute stats:\")\n",
    "print(df[['Player', 'MP', 'PTS', 'PTS_per36', 'AST', 'AST_per36']].head())"
   ]
  },
  {
   "cell_type": "code",
   "execution_count": 16,
   "metadata": {},
   "outputs": [
    {
     "name": "stdout",
     "output_type": "stream",
     "text": [
      "Removed 17 original columns:\n",
      "- FG\n",
      "- FGA\n",
      "- 3P\n",
      "- 3PA\n",
      "- 2P\n",
      "- 2PA\n",
      "- FT\n",
      "- FTA\n",
      "- ORB\n",
      "- DRB\n",
      "- TRB\n",
      "- AST\n",
      "- STL\n",
      "- BLK\n",
      "- TOV\n",
      "- PF\n",
      "- PTS\n",
      "\n",
      "DataFrame now has 29 columns\n",
      "Remaining columns: ['Player', 'Pos', 'Age', 'Tm', 'G', 'GS', 'MP', 'FG%', '3P%', '2P%', 'eFG%', 'FT%', 'FG_per36', 'FGA_per36', '3P_per36', '3PA_per36', '2P_per36', '2PA_per36', 'FT_per36', 'FTA_per36', 'ORB_per36', 'DRB_per36', 'TRB_per36', 'AST_per36', 'STL_per36', 'BLK_per36', 'TOV_per36', 'PF_per36', 'PTS_per36']\n"
     ]
    }
   ],
   "source": [
    "# Remove the original columns that were converted to per-36-minute versions\n",
    "original_columns_to_remove = ['FG', 'FGA', '3P', '3PA', '2P', '2PA', 'FT', 'FTA', 'ORB', 'DRB', 'TRB', 'AST', 'STL', 'BLK', 'TOV', 'PF', 'PTS']\n",
    "\n",
    "df = df.drop(columns=original_columns_to_remove)\n",
    "\n",
    "print(f\"Removed {len(original_columns_to_remove)} original columns:\")\n",
    "for col in original_columns_to_remove:\n",
    "    print(f\"- {col}\")\n",
    "\n",
    "print(f\"\\nDataFrame now has {len(df.columns)} columns\")\n",
    "print(f\"Remaining columns: {list(df.columns)}\")"
   ]
  },
  {
   "cell_type": "code",
   "execution_count": 17,
   "metadata": {},
   "outputs": [
    {
     "data": {
      "text/html": [
       "<div>\n",
       "<style scoped>\n",
       "    .dataframe tbody tr th:only-of-type {\n",
       "        vertical-align: middle;\n",
       "    }\n",
       "\n",
       "    .dataframe tbody tr th {\n",
       "        vertical-align: top;\n",
       "    }\n",
       "\n",
       "    .dataframe thead th {\n",
       "        text-align: right;\n",
       "    }\n",
       "</style>\n",
       "<table border=\"1\" class=\"dataframe\">\n",
       "  <thead>\n",
       "    <tr style=\"text-align: right;\">\n",
       "      <th></th>\n",
       "      <th>Player</th>\n",
       "      <th>Pos</th>\n",
       "      <th>Age</th>\n",
       "      <th>Tm</th>\n",
       "      <th>G</th>\n",
       "      <th>GS</th>\n",
       "      <th>MP</th>\n",
       "      <th>FG%</th>\n",
       "      <th>3P%</th>\n",
       "      <th>2P%</th>\n",
       "      <th>...</th>\n",
       "      <th>FTA_per36</th>\n",
       "      <th>ORB_per36</th>\n",
       "      <th>DRB_per36</th>\n",
       "      <th>TRB_per36</th>\n",
       "      <th>AST_per36</th>\n",
       "      <th>STL_per36</th>\n",
       "      <th>BLK_per36</th>\n",
       "      <th>TOV_per36</th>\n",
       "      <th>PF_per36</th>\n",
       "      <th>PTS_per36</th>\n",
       "    </tr>\n",
       "  </thead>\n",
       "  <tbody>\n",
       "    <tr>\n",
       "      <th>0</th>\n",
       "      <td>Precious Achiuwa</td>\n",
       "      <td>C</td>\n",
       "      <td>23.0</td>\n",
       "      <td>TOR</td>\n",
       "      <td>55.0</td>\n",
       "      <td>12.0</td>\n",
       "      <td>20.7</td>\n",
       "      <td>0.485</td>\n",
       "      <td>0.269</td>\n",
       "      <td>0.564</td>\n",
       "      <td>...</td>\n",
       "      <td>4.000000</td>\n",
       "      <td>3.130435</td>\n",
       "      <td>7.130435</td>\n",
       "      <td>10.434783</td>\n",
       "      <td>1.565217</td>\n",
       "      <td>1.043478</td>\n",
       "      <td>0.869565</td>\n",
       "      <td>1.913043</td>\n",
       "      <td>3.304348</td>\n",
       "      <td>16.000000</td>\n",
       "    </tr>\n",
       "    <tr>\n",
       "      <th>1</th>\n",
       "      <td>Steven Adams</td>\n",
       "      <td>C</td>\n",
       "      <td>29.0</td>\n",
       "      <td>MEM</td>\n",
       "      <td>42.0</td>\n",
       "      <td>42.0</td>\n",
       "      <td>27.0</td>\n",
       "      <td>0.597</td>\n",
       "      <td>0.000</td>\n",
       "      <td>0.599</td>\n",
       "      <td>...</td>\n",
       "      <td>4.133333</td>\n",
       "      <td>6.800000</td>\n",
       "      <td>8.666667</td>\n",
       "      <td>15.333333</td>\n",
       "      <td>3.066667</td>\n",
       "      <td>1.200000</td>\n",
       "      <td>1.466667</td>\n",
       "      <td>2.533333</td>\n",
       "      <td>3.066667</td>\n",
       "      <td>11.466667</td>\n",
       "    </tr>\n",
       "    <tr>\n",
       "      <th>2</th>\n",
       "      <td>Bam Adebayo</td>\n",
       "      <td>C</td>\n",
       "      <td>25.0</td>\n",
       "      <td>MIA</td>\n",
       "      <td>75.0</td>\n",
       "      <td>75.0</td>\n",
       "      <td>34.6</td>\n",
       "      <td>0.540</td>\n",
       "      <td>0.083</td>\n",
       "      <td>0.545</td>\n",
       "      <td>...</td>\n",
       "      <td>5.618497</td>\n",
       "      <td>2.601156</td>\n",
       "      <td>6.971098</td>\n",
       "      <td>9.572254</td>\n",
       "      <td>3.329480</td>\n",
       "      <td>1.248555</td>\n",
       "      <td>0.832370</td>\n",
       "      <td>2.601156</td>\n",
       "      <td>2.913295</td>\n",
       "      <td>21.225434</td>\n",
       "    </tr>\n",
       "    <tr>\n",
       "      <th>3</th>\n",
       "      <td>Ochai Agbaji</td>\n",
       "      <td>SG</td>\n",
       "      <td>22.0</td>\n",
       "      <td>UTA</td>\n",
       "      <td>59.0</td>\n",
       "      <td>22.0</td>\n",
       "      <td>20.5</td>\n",
       "      <td>0.427</td>\n",
       "      <td>0.355</td>\n",
       "      <td>0.532</td>\n",
       "      <td>...</td>\n",
       "      <td>2.107317</td>\n",
       "      <td>1.229268</td>\n",
       "      <td>2.282927</td>\n",
       "      <td>3.687805</td>\n",
       "      <td>1.931707</td>\n",
       "      <td>0.526829</td>\n",
       "      <td>0.526829</td>\n",
       "      <td>1.229268</td>\n",
       "      <td>2.985366</td>\n",
       "      <td>13.873171</td>\n",
       "    </tr>\n",
       "    <tr>\n",
       "      <th>4</th>\n",
       "      <td>Santi Aldama</td>\n",
       "      <td>PF</td>\n",
       "      <td>22.0</td>\n",
       "      <td>MEM</td>\n",
       "      <td>77.0</td>\n",
       "      <td>20.0</td>\n",
       "      <td>21.8</td>\n",
       "      <td>0.470</td>\n",
       "      <td>0.353</td>\n",
       "      <td>0.591</td>\n",
       "      <td>...</td>\n",
       "      <td>3.137615</td>\n",
       "      <td>1.816514</td>\n",
       "      <td>6.110092</td>\n",
       "      <td>7.926606</td>\n",
       "      <td>2.146789</td>\n",
       "      <td>0.990826</td>\n",
       "      <td>0.990826</td>\n",
       "      <td>1.321101</td>\n",
       "      <td>3.137615</td>\n",
       "      <td>14.862385</td>\n",
       "    </tr>\n",
       "  </tbody>\n",
       "</table>\n",
       "<p>5 rows × 29 columns</p>\n",
       "</div>"
      ],
      "text/plain": [
       "             Player Pos   Age   Tm     G    GS    MP    FG%    3P%    2P%  \\\n",
       "0  Precious Achiuwa   C  23.0  TOR  55.0  12.0  20.7  0.485  0.269  0.564   \n",
       "1      Steven Adams   C  29.0  MEM  42.0  42.0  27.0  0.597  0.000  0.599   \n",
       "2       Bam Adebayo   C  25.0  MIA  75.0  75.0  34.6  0.540  0.083  0.545   \n",
       "3      Ochai Agbaji  SG  22.0  UTA  59.0  22.0  20.5  0.427  0.355  0.532   \n",
       "4      Santi Aldama  PF  22.0  MEM  77.0  20.0  21.8  0.470  0.353  0.591   \n",
       "\n",
       "   ...  FTA_per36  ORB_per36  DRB_per36  TRB_per36  AST_per36  STL_per36  \\\n",
       "0  ...   4.000000   3.130435   7.130435  10.434783   1.565217   1.043478   \n",
       "1  ...   4.133333   6.800000   8.666667  15.333333   3.066667   1.200000   \n",
       "2  ...   5.618497   2.601156   6.971098   9.572254   3.329480   1.248555   \n",
       "3  ...   2.107317   1.229268   2.282927   3.687805   1.931707   0.526829   \n",
       "4  ...   3.137615   1.816514   6.110092   7.926606   2.146789   0.990826   \n",
       "\n",
       "   BLK_per36  TOV_per36  PF_per36  PTS_per36  \n",
       "0   0.869565   1.913043  3.304348  16.000000  \n",
       "1   1.466667   2.533333  3.066667  11.466667  \n",
       "2   0.832370   2.601156  2.913295  21.225434  \n",
       "3   0.526829   1.229268  2.985366  13.873171  \n",
       "4   0.990826   1.321101  3.137615  14.862385  \n",
       "\n",
       "[5 rows x 29 columns]"
      ]
     },
     "execution_count": 17,
     "metadata": {},
     "output_type": "execute_result"
    }
   ],
   "source": [
    "df.head()"
   ]
  },
  {
   "cell_type": "code",
   "execution_count": 18,
   "metadata": {},
   "outputs": [
    {
     "data": {
      "text/html": [
       "<div>\n",
       "<style scoped>\n",
       "    .dataframe tbody tr th:only-of-type {\n",
       "        vertical-align: middle;\n",
       "    }\n",
       "\n",
       "    .dataframe tbody tr th {\n",
       "        vertical-align: top;\n",
       "    }\n",
       "\n",
       "    .dataframe thead th {\n",
       "        text-align: right;\n",
       "    }\n",
       "</style>\n",
       "<table border=\"1\" class=\"dataframe\">\n",
       "  <thead>\n",
       "    <tr style=\"text-align: right;\">\n",
       "      <th></th>\n",
       "      <th>FG_per36</th>\n",
       "      <th>FGA_per36</th>\n",
       "      <th>3P_per36</th>\n",
       "      <th>3PA_per36</th>\n",
       "      <th>2P_per36</th>\n",
       "      <th>2PA_per36</th>\n",
       "      <th>FT_per36</th>\n",
       "      <th>FTA_per36</th>\n",
       "      <th>ORB_per36</th>\n",
       "      <th>DRB_per36</th>\n",
       "      <th>TRB_per36</th>\n",
       "      <th>AST_per36</th>\n",
       "      <th>STL_per36</th>\n",
       "      <th>BLK_per36</th>\n",
       "      <th>TOV_per36</th>\n",
       "      <th>PF_per36</th>\n",
       "      <th>PTS_per36</th>\n",
       "    </tr>\n",
       "  </thead>\n",
       "  <tbody>\n",
       "    <tr>\n",
       "      <th>0</th>\n",
       "      <td>0.253772</td>\n",
       "      <td>0.079524</td>\n",
       "      <td>-0.876899</td>\n",
       "      <td>-0.575309</td>\n",
       "      <td>0.628209</td>\n",
       "      <td>0.619563</td>\n",
       "      <td>0.265416</td>\n",
       "      <td>0.484959</td>\n",
       "      <td>1.236052</td>\n",
       "      <td>1.179775</td>\n",
       "      <td>1.360059</td>\n",
       "      <td>-0.955102</td>\n",
       "      <td>-0.139673</td>\n",
       "      <td>0.275609</td>\n",
       "      <td>0.030739</td>\n",
       "      <td>0.158048</td>\n",
       "      <td>0.040809</td>\n",
       "    </tr>\n",
       "    <tr>\n",
       "      <th>1</th>\n",
       "      <td>-0.493691</td>\n",
       "      <td>-1.113308</td>\n",
       "      <td>-1.697849</td>\n",
       "      <td>-1.862287</td>\n",
       "      <td>0.479722</td>\n",
       "      <td>0.274248</td>\n",
       "      <td>-0.593703</td>\n",
       "      <td>0.555944</td>\n",
       "      <td>4.233079</td>\n",
       "      <td>1.984111</td>\n",
       "      <td>3.050086</td>\n",
       "      <td>-0.204315</td>\n",
       "      <td>0.210944</td>\n",
       "      <td>1.270584</td>\n",
       "      <td>0.856608</td>\n",
       "      <td>-0.083079</td>\n",
       "      <td>-0.863226</td>\n",
       "    </tr>\n",
       "    <tr>\n",
       "      <th>2</th>\n",
       "      <td>1.415239</td>\n",
       "      <td>0.859048</td>\n",
       "      <td>-1.697849</td>\n",
       "      <td>-1.785292</td>\n",
       "      <td>2.251985</td>\n",
       "      <td>2.432205</td>\n",
       "      <td>1.369641</td>\n",
       "      <td>1.346622</td>\n",
       "      <td>0.803777</td>\n",
       "      <td>1.096350</td>\n",
       "      <td>1.062482</td>\n",
       "      <td>-0.072897</td>\n",
       "      <td>0.319710</td>\n",
       "      <td>0.213629</td>\n",
       "      <td>0.946909</td>\n",
       "      <td>-0.238674</td>\n",
       "      <td>1.082862</td>\n",
       "    </tr>\n",
       "    <tr>\n",
       "      <th>3</th>\n",
       "      <td>-0.502846</td>\n",
       "      <td>-0.276194</td>\n",
       "      <td>0.623238</td>\n",
       "      <td>0.671804</td>\n",
       "      <td>-0.813941</td>\n",
       "      <td>-0.808150</td>\n",
       "      <td>-0.519394</td>\n",
       "      <td>-0.522676</td>\n",
       "      <td>-0.316678</td>\n",
       "      <td>-1.358269</td>\n",
       "      <td>-0.967685</td>\n",
       "      <td>-0.771842</td>\n",
       "      <td>-1.296997</td>\n",
       "      <td>-0.295506</td>\n",
       "      <td>-0.879656</td>\n",
       "      <td>-0.165558</td>\n",
       "      <td>-0.383323</td>\n",
       "    </tr>\n",
       "    <tr>\n",
       "      <th>4</th>\n",
       "      <td>-0.296022</td>\n",
       "      <td>-0.327642</td>\n",
       "      <td>0.173014</td>\n",
       "      <td>0.276281</td>\n",
       "      <td>-0.372640</td>\n",
       "      <td>-0.540033</td>\n",
       "      <td>-0.041871</td>\n",
       "      <td>0.025838</td>\n",
       "      <td>0.162940</td>\n",
       "      <td>0.645547</td>\n",
       "      <td>0.494725</td>\n",
       "      <td>-0.664292</td>\n",
       "      <td>-0.257618</td>\n",
       "      <td>0.477671</td>\n",
       "      <td>-0.757388</td>\n",
       "      <td>-0.011102</td>\n",
       "      <td>-0.186054</td>\n",
       "    </tr>\n",
       "  </tbody>\n",
       "</table>\n",
       "</div>"
      ],
      "text/plain": [
       "   FG_per36  FGA_per36  3P_per36  3PA_per36  2P_per36  2PA_per36  FT_per36  \\\n",
       "0  0.253772   0.079524 -0.876899  -0.575309  0.628209   0.619563  0.265416   \n",
       "1 -0.493691  -1.113308 -1.697849  -1.862287  0.479722   0.274248 -0.593703   \n",
       "2  1.415239   0.859048 -1.697849  -1.785292  2.251985   2.432205  1.369641   \n",
       "3 -0.502846  -0.276194  0.623238   0.671804 -0.813941  -0.808150 -0.519394   \n",
       "4 -0.296022  -0.327642  0.173014   0.276281 -0.372640  -0.540033 -0.041871   \n",
       "\n",
       "   FTA_per36  ORB_per36  DRB_per36  TRB_per36  AST_per36  STL_per36  \\\n",
       "0   0.484959   1.236052   1.179775   1.360059  -0.955102  -0.139673   \n",
       "1   0.555944   4.233079   1.984111   3.050086  -0.204315   0.210944   \n",
       "2   1.346622   0.803777   1.096350   1.062482  -0.072897   0.319710   \n",
       "3  -0.522676  -0.316678  -1.358269  -0.967685  -0.771842  -1.296997   \n",
       "4   0.025838   0.162940   0.645547   0.494725  -0.664292  -0.257618   \n",
       "\n",
       "   BLK_per36  TOV_per36  PF_per36  PTS_per36  \n",
       "0   0.275609   0.030739  0.158048   0.040809  \n",
       "1   1.270584   0.856608 -0.083079  -0.863226  \n",
       "2   0.213629   0.946909 -0.238674   1.082862  \n",
       "3  -0.295506  -0.879656 -0.165558  -0.383323  \n",
       "4   0.477671  -0.757388 -0.011102  -0.186054  "
      ]
     },
     "execution_count": 18,
     "metadata": {},
     "output_type": "execute_result"
    }
   ],
   "source": [
    "X = df[['FG_per36', 'FGA_per36', '3P_per36', '3PA_per36', '2P_per36', '2PA_per36', 'FT_per36', 'FTA_per36', 'ORB_per36', 'DRB_per36', 'TRB_per36', 'AST_per36', 'STL_per36', 'BLK_per36', 'TOV_per36', 'PF_per36', 'PTS_per36']].copy()\n",
    "\n",
    "scaler = StandardScaler()\n",
    "X_scaled = scaler.fit_transform(X)\n",
    "\n",
    "X_scaled_df = pd.DataFrame(X_scaled, columns=X.columns, index=df.index)\n",
    "\n",
    "X_scaled_df.head()"
   ]
  },
  {
   "cell_type": "code",
   "execution_count": 19,
   "metadata": {},
   "outputs": [
    {
     "data": {
      "image/png": "[encoded data removed]",
      "text/plain": [
       "<Figure size 1000x600 with 1 Axes>"
      ]
     },
     "metadata": {},
     "output_type": "display_data"
    },
    {
     "name": "stdout",
     "output_type": "stream",
     "text": [
      "Interpret the graph: Look for the 'bend' or 'elbow' point where the rate of decrease in WCSS significantly slows down.\n"
     ]
    }
   ],
   "source": [
    "#Elbow Method\n",
    "\n",
    "wcss = []\n",
    "# Test a range of K values, e.g., from 1 to 15 or 20\n",
    "# Start from 1, but for Silhouette, you'll need K >= 2\n",
    "k_range = range(1, 16)\n",
    "\n",
    "for k in k_range:\n",
    "    kmeans = KMeans(n_clusters=k, random_state=42, n_init='auto') # n_init='auto' is recommended\n",
    "    kmeans.fit(X_scaled)\n",
    "    wcss.append(kmeans.inertia_)\n",
    "\n",
    "# Plot the Elbow Method graph\n",
    "plt.figure(figsize=(10, 6))\n",
    "plt.plot(k_range, wcss, marker='o', linestyle='--')\n",
    "plt.title('Elbow Method for Optimal K')\n",
    "plt.xlabel('Number of Clusters (K)')\n",
    "plt.ylabel('WCSS (Inertia)')\n",
    "plt.xticks(k_range)\n",
    "plt.grid(True)\n",
    "plt.show()\n",
    "\n",
    "print(\"Interpret the graph: Look for the 'bend' or 'elbow' point where the rate of decrease in WCSS significantly slows down.\")"
   ]
  },
  {
   "cell_type": "code",
   "execution_count": 20,
   "metadata": {},
   "outputs": [
    {
     "data": {
      "image/png": "[encoded data removed]",
      "text/plain": [
       "<Figure size 1000x600 with 1 Axes>"
      ]
     },
     "metadata": {},
     "output_type": "display_data"
    },
    {
     "name": "stdout",
     "output_type": "stream",
     "text": [
      "Interpret the graph: Look for the K value that has the highest Silhouette Score.\n"
     ]
    }
   ],
   "source": [
    "# Silhouette Score\n",
    "\n",
    "from sklearn.metrics import silhouette_score\n",
    "\n",
    "silhouette_scores = []\n",
    "# Silhouette score requires at least 2 clusters\n",
    "k_range_silhouette = range(2, 16) # Start from K=2\n",
    "\n",
    "for k in k_range_silhouette:\n",
    "    kmeans = KMeans(n_clusters=k, random_state=42, n_init='auto')\n",
    "    cluster_labels = kmeans.fit_predict(X_scaled)\n",
    "    score = silhouette_score(X_scaled, cluster_labels)\n",
    "    silhouette_scores.append(score)\n",
    "\n",
    "# Plot the Silhouette Score graph\n",
    "plt.figure(figsize=(10, 6))\n",
    "plt.plot(k_range_silhouette, silhouette_scores, marker='o', linestyle='--')\n",
    "plt.title('Silhouette Score for Optimal K')\n",
    "plt.xlabel('Number of Clusters (K)')\n",
    "plt.ylabel('Silhouette Score')\n",
    "plt.xticks(k_range_silhouette)\n",
    "plt.grid(True)\n",
    "plt.show()\n",
    "\n",
    "print(\"Interpret the graph: Look for the K value that has the highest Silhouette Score.\")"
   ]
  },
  {
   "cell_type": "code",
   "execution_count": 21,
   "metadata": {},
   "outputs": [
    {
     "name": "stdout",
     "output_type": "stream",
     "text": [
      "\n",
      "--- Interpreting Archetypes for Different K Values ---\n",
      "\n",
      "--- Analyzing K=13 Clusters ---\n",
      "Cluster Means (Average Feature Values for each Archetype - Unscaled):\n",
      "              FG_per36  FGA_per36  3P_per36  3PA_per36  2P_per36  2PA_per36  \\\n",
      "Cluster_K13                                                                   \n",
      "0             6.128993  14.069914  3.049212   8.025133  3.091001   6.037771   \n",
      "1             7.237617  12.813114  0.649468   1.983292  6.603463  10.830128   \n",
      "2             7.911267  17.012428  2.159417   5.868380  5.761395  11.148739   \n",
      "3             4.727507  11.150927  2.064769   5.818890  2.670091   5.331314   \n",
      "4             5.414236  11.572437  1.460794   4.431707  3.954448   7.125860   \n",
      "5             7.353887  16.884112  2.822695   7.608087  4.531429   9.267074   \n",
      "6             3.948482   9.378572  2.192789   6.065067  1.757253   3.320138   \n",
      "7             3.893201   8.105131  0.909574   2.617642  2.989236   5.502623   \n",
      "8             5.151669   8.299131  0.087869   0.388765  5.063769   7.878716   \n",
      "9            10.514943  19.133318  0.918679   2.803247  9.572630  16.341941   \n",
      "10            8.983280  18.794088  2.196264   6.259978  6.776580  12.533787   \n",
      "11            5.644080  12.455506  1.265220   3.749033  4.378202   8.720947   \n",
      "12            9.755763  20.720938  3.465552   9.355762  6.290211  11.365176   \n",
      "\n",
      "             FT_per36  FTA_per36  ORB_per36  DRB_per36  TRB_per36  AST_per36  \\\n",
      "Cluster_K13                                                                    \n",
      "0            1.791053   2.223431   0.918262   3.979020   4.906423   2.555475   \n",
      "1            3.127869   4.450508   3.279374   7.953382  11.241033   2.448352   \n",
      "2            4.518162   5.460006   0.842001   3.724642   4.565658   3.430924   \n",
      "3            1.692055   2.127393   0.704823   3.157947   3.832759   4.336064   \n",
      "4            2.266530   3.071893   2.148158   5.696924   7.842097   2.457578   \n",
      "5            2.999703   3.659963   0.749871   3.713368   4.465337   6.330620   \n",
      "6            1.100808   1.422459   1.166213   4.082023   5.238008   2.134078   \n",
      "7            1.240877   1.728331   1.968235   5.309358   7.301690   3.397038   \n",
      "8            1.936097   3.095684   4.285113   7.016799  11.315828   2.026504   \n",
      "9            7.701800   9.666184   1.944448   7.179085   9.100951   6.081504   \n",
      "10           4.537335   5.571837   1.206586   5.637908   6.845814   5.429194   \n",
      "11           2.585643   3.223961   0.980131   3.898835   4.882819   5.813871   \n",
      "12           7.269974   8.489708   0.843190   5.422842   6.266032   7.354205   \n",
      "\n",
      "             STL_per36  BLK_per36  TOV_per36  PF_per36  PTS_per36  \n",
      "Cluster_K13                                                        \n",
      "0             1.014976   0.356483   1.497688  2.521067  17.121022  \n",
      "1             0.868821   1.262325   2.168244  3.950641  18.265450  \n",
      "2             0.959647   0.331024   2.080515  2.491265  22.515675  \n",
      "3             1.217281   0.369694   1.818313  2.659742  13.203718  \n",
      "4             1.012065   0.790016   1.708307  3.670845  14.528835  \n",
      "5             1.147547   0.401581   2.795177  2.485607  20.517645  \n",
      "6             0.915996   0.593867   1.113990  3.212805  11.171494  \n",
      "7             1.872367   0.771333   1.646681  3.677366   9.930642  \n",
      "8             0.964392   1.990072   1.775038  4.497921  12.390427  \n",
      "9             1.255014   1.040216   3.299620  2.552434  29.674374  \n",
      "10            1.020135   0.605446   2.975624  2.654018  24.706187  \n",
      "11            1.466035   0.520167   2.295816  2.875514  15.141456  \n",
      "12            1.085929   0.399224   3.448674  2.028755  30.225124  \n",
      "Cluster means for K=13 saved to cluster_means_K13.csv\n",
      "\n",
      "Positional Distribution within each Cluster:\n",
      "Pos                 C        PF      PF-C     PF-SF        PG     PG-SG  \\\n",
      "Cluster_K13                                                               \n",
      "0            0.000000  0.145161  0.000000  0.000000  0.064516  0.000000   \n",
      "1            0.844444  0.133333  0.000000  0.000000  0.000000  0.000000   \n",
      "2            0.000000  0.136364  0.000000  0.000000  0.090909  0.000000   \n",
      "3            0.000000  0.014493  0.000000  0.000000  0.420290  0.014493   \n",
      "4            0.236111  0.430556  0.013889  0.013889  0.000000  0.000000   \n",
      "5            0.000000  0.000000  0.000000  0.000000  0.526316  0.000000   \n",
      "6            0.069444  0.305556  0.000000  0.000000  0.013889  0.000000   \n",
      "7            0.147059  0.264706  0.000000  0.000000  0.117647  0.000000   \n",
      "8            0.942857  0.057143  0.000000  0.000000  0.000000  0.000000   \n",
      "9            0.333333  0.444444  0.000000  0.000000  0.222222  0.000000   \n",
      "10           0.040000  0.360000  0.000000  0.000000  0.200000  0.040000   \n",
      "11           0.000000  0.034483  0.000000  0.000000  0.517241  0.000000   \n",
      "12           0.000000  0.000000  0.000000  0.000000  0.800000  0.000000   \n",
      "\n",
      "Pos                SF     SF-PF     SF-SG        SG     SG-PG  \n",
      "Cluster_K13                                                    \n",
      "0            0.403226  0.016129  0.000000  0.370968  0.000000  \n",
      "1            0.022222  0.000000  0.000000  0.000000  0.000000  \n",
      "2            0.227273  0.000000  0.045455  0.500000  0.000000  \n",
      "3            0.086957  0.000000  0.000000  0.463768  0.000000  \n",
      "4            0.250000  0.000000  0.000000  0.055556  0.000000  \n",
      "5            0.000000  0.000000  0.000000  0.447368  0.026316  \n",
      "6            0.375000  0.000000  0.000000  0.222222  0.013889  \n",
      "7            0.264706  0.000000  0.029412  0.176471  0.000000  \n",
      "8            0.000000  0.000000  0.000000  0.000000  0.000000  \n",
      "9            0.000000  0.000000  0.000000  0.000000  0.000000  \n",
      "10           0.200000  0.000000  0.000000  0.160000  0.000000  \n",
      "11           0.206897  0.000000  0.000000  0.241379  0.000000  \n",
      "12           0.200000  0.000000  0.000000  0.000000  0.000000  \n",
      "Positional distribution for K=13 saved to position_distribution_K13.csv\n",
      "\n",
      "Top Players by Minutes Played in each Cluster (Example):\n",
      "  Cluster 0 (Top 5 players by MP):\n",
      "              Player Pos    MP  PTS_per36  AST_per36  TRB_per36   eFG%\n",
      "621    Klay Thompson  SF  33.0  23.890909   2.618182   4.472727  0.556\n",
      "261    Tobias Harris  SF  32.9  16.085106   2.735562   6.237082  0.575\n",
      "659  P.J. Washington  PF  32.6  17.337423   2.650307   5.411043  0.520\n",
      "33   Harrison Barnes  PF  32.5  16.615385   1.772308   4.984615  0.556\n",
      "675   Andrew Wiggins  SF  32.2  19.118012   2.571429   5.590062  0.557\n",
      "  Cluster 1 (Top 5 players by MP):\n",
      "               Player Pos    MP  PTS_per36  AST_per36  TRB_per36   eFG%\n",
      "2         Bam Adebayo   C  34.6  21.225434   3.329480   9.572254  0.541\n",
      "570  Domantas Sabonis   C  34.6  19.872832   7.595376  12.797688  0.632\n",
      "444       Evan Mobley  PF  34.4  16.953488   2.930233   9.418605  0.566\n",
      "646    Nikola Vučević   C  33.5  18.913433   3.438806  11.820896  0.573\n",
      "9       Jarrett Allen   C  32.6  15.791411   1.877301  10.822086  0.645\n",
      "  Cluster 2 (Top 5 players by MP):\n",
      "            Player    Pos    MP  PTS_per36  AST_per36  TRB_per36   eFG%\n",
      "306   Kyrie Irving     SG  38.2  25.445026   5.654450   4.712042  0.586\n",
      "155  DeMar DeRozan     SF  36.2  24.364641   5.071823   4.574586  0.522\n",
      "374    Zach LaVine     SG  35.9  24.869081   4.211699   4.512535  0.558\n",
      "229   Jerami Grant     PF  35.7  20.672269   2.420168   4.537815  0.554\n",
      "79   Mikal Bridges  SF-SG  35.7  20.268908   3.327731   4.436975  0.535\n",
      "  Cluster 3 (Top 5 players by MP):\n",
      "                       Player Pos    MP  PTS_per36  AST_per36  TRB_per36  \\\n",
      "594              Marcus Smart  PG  32.1  12.897196   7.065421   3.476636   \n",
      "134               Mike Conley  PG  31.4  16.050955   5.732484   3.554140   \n",
      "106  Kentavious Caldwell-Pope  SG  31.3  12.421725   2.760383   3.105431   \n",
      "397                Kyle Lowry  PG  31.2  12.923077   5.884615   4.730769   \n",
      "132               Mike Conley  PG  30.3  14.138614   7.960396   3.207921   \n",
      "\n",
      "      eFG%  \n",
      "594  0.511  \n",
      "134  0.583  \n",
      "106  0.569  \n",
      "397  0.514  \n",
      "132  0.539  \n",
      "  Cluster 4 (Top 5 players by MP):\n",
      "               Player Pos    MP  PTS_per36  AST_per36  TRB_per36   eFG%\n",
      "296   De'Andre Hunter  SF  31.7  17.488959   1.589905   4.769716  0.522\n",
      "600  Jabari Smith Jr.  PF  31.0  14.864516   1.509677   8.361290  0.475\n",
      "168     Luguentz Dort  SF  30.7  16.065147   2.462541   5.394137  0.466\n",
      "425   Jaden McDaniels  SF  30.6  14.235294   2.235294   4.588235  0.591\n",
      "392       Brook Lopez   C  30.4  18.828947   1.539474   7.934211  0.606\n",
      "  Cluster 5 (Top 5 players by MP):\n",
      "              Player Pos    MP  PTS_per36  AST_per36  TRB_per36   eFG%\n",
      "254     James Harden  PG  36.8  20.543478  10.467391   5.967391  0.536\n",
      "642    Fred VanVleet  PG  36.7  18.931880   7.062670   4.021798  0.486\n",
      "459  Dejounte Murray  SG  36.4  20.274725   6.032967   5.241758  0.514\n",
      "209   Darius Garland  PG  35.5  21.904225   7.909859   2.738028  0.537\n",
      "422      CJ McCollum  SG  35.3  21.314448   5.813031   4.487252  0.515\n",
      "  Cluster 6 (Top 5 players by MP):\n",
      "                  Player Pos    MP  PTS_per36  AST_per36  TRB_per36   eFG%\n",
      "197  Dorian Finney-Smith  PF  32.2  10.173913   1.677019   5.254658  0.540\n",
      "488        Royce O'Neale  SF  31.7   9.993691   4.201893   5.791798  0.524\n",
      "288           Al Horford   C  30.5  11.567213   3.540984   7.318033  0.627\n",
      "196  Dorian Finney-Smith  PF  30.4   9.828947   1.776316   5.684211  0.505\n",
      "99        Reggie Bullock  SF  30.3   8.554455   1.663366   4.277228  0.569\n",
      "  Cluster 7 (Top 5 players by MP):\n",
      "             Player Pos    MP  PTS_per36  AST_per36  TRB_per36   eFG%\n",
      "264       Josh Hart  SF  33.4  10.239521   4.203593   8.838323  0.551\n",
      "263       Josh Hart  SF  32.3  10.922601   4.235294   8.693498  0.588\n",
      "235  Draymond Green  PF  31.5   9.714286   7.771429   8.228571  0.570\n",
      "265       Josh Hart  SF  30.0  12.240000   4.320000   8.400000  0.672\n",
      "336   Herbert Jones  PF  29.6  11.918919   3.040541   4.986486  0.525\n",
      "  Cluster 8 (Top 5 players by MP):\n",
      "                Player Pos    MP  PTS_per36  AST_per36  TRB_per36   eFG%\n",
      "127        Nic Claxton   C  29.9  15.170569   2.287625  11.076923  0.705\n",
      "704        Ivica Zubac   C  28.6  13.594406   1.258741  12.461538  0.634\n",
      "1         Steven Adams   C  27.0  11.466667   3.066667  15.333333  0.597\n",
      "551  Mitchell Robinson   C  27.0   9.866667   1.200000  12.533333  0.671\n",
      "183        Jalen Duren   C  24.9  13.156627   1.590361  12.867470  0.648\n",
      "  Cluster 9 (Top 5 players by MP):\n",
      "                      Player Pos    MP  PTS_per36  AST_per36  TRB_per36   eFG%\n",
      "181             Kevin Durant  PF  36.0  29.700000   5.300000   6.700000  0.607\n",
      "217  Shai Gilgeous-Alexander  PG  35.5  31.842254   5.577465   4.867606  0.531\n",
      "191              Joel Embiid   C  34.6  34.439306   4.369942  10.612717  0.573\n",
      "146            Anthony Davis   C  34.0  27.423529   2.752941  13.235294  0.573\n",
      "330             Nikola Jokić   C  33.7  26.172107  10.468843  12.605341  0.660\n",
      "  Cluster 10 (Top 5 players by MP):\n",
      "              Player    Pos    MP  PTS_per36  AST_per36  TRB_per36   eFG%\n",
      "304     Kyrie Irving  PG-SG  37.4  26.085561   5.294118   4.909091  0.572\n",
      "587    Pascal Siakam     PF  37.4  23.294118   5.582888   7.508021  0.515\n",
      "305     Kyrie Irving     PG  37.0  26.367568   5.156757   4.962162  0.565\n",
      "185  Anthony Edwards     SG  36.0  24.600000   4.400000   5.800000  0.528\n",
      "88      Jaylen Brown     SF  35.9  26.674095   3.509749   6.919220  0.550\n",
      "  Cluster 11 (Top 5 players by MP):\n",
      "                Player Pos    MP  PTS_per36  AST_per36  TRB_per36   eFG%\n",
      "80       Mikal Bridges  SF  36.4  17.010989   3.560440   4.252747  0.529\n",
      "15          OG Anunoby  SF  35.6  16.988764   2.022472   5.056180  0.556\n",
      "164  Spencer Dinwiddie  PG  35.3  16.827195   9.280453   4.181303  0.465\n",
      "34      Scottie Barnes  SF  34.8  15.827586   4.965517   6.827586  0.487\n",
      "501         Chris Paul  PG  32.0  15.637500  10.012500   4.837500  0.513\n",
      "  Cluster 12 (Top 5 players by MP):\n",
      "             Player Pos    MP  PTS_per36  AST_per36  TRB_per36   eFG%\n",
      "613    Jayson Tatum  SF  36.9  29.365854   4.487805   8.585366  0.543\n",
      "387  Damian Lillard  PG  36.3  31.933884   7.239669   4.760331  0.564\n",
      "166     Luka Dončić  PG  36.2  32.220994   7.955801   8.552486  0.560\n",
      "701      Trae Young  PG  34.8  27.103448  10.551724   3.103448  0.485\n",
      "144   Stephen Curry  PG  34.7  30.501441   6.536023   6.328530  0.614\n",
      "All players with their K=13 cluster assignments saved to all_players_with_clusters_K13.csv\n"
     ]
    }
   ],
   "source": [
    "print(\"\\n--- Interpreting Archetypes for Different K Values ---\")\n",
    "\n",
    "# Customize this list with the specific K values you want to analyze.\n",
    "selected_k_values_for_analysis = [13] # <<<=== CUSTOMIZE THIS LIST BASED ON YOUR ANALYSIS\n",
    "\n",
    "# Dictionary to store fitted KMeans models if you haven't stored them from the K-selection phase\n",
    "kmeans_models = {}\n",
    "\n",
    "\n",
    "for k in selected_k_values_for_analysis:\n",
    "    print(f\"\\n--- Analyzing K={k} Clusters ---\")\n",
    "\n",
    "    # Fit KMeans model for the current K if not already stored\n",
    "    if k not in kmeans_models:\n",
    "        kmeans = KMeans(n_clusters=k, random_state=42, n_init='auto')\n",
    "        kmeans.fit(X_scaled_df) # Use X_scaled_df for fitting\n",
    "        kmeans_models[k] = kmeans\n",
    "    else:\n",
    "        kmeans = kmeans_models[k] # Use the already fitted model\n",
    "\n",
    "    cluster_labels = kmeans.labels_\n",
    "\n",
    "    # Add cluster labels to a temporary copy of the original DataFrame for analysis\n",
    "    df_analysis = df.copy() # df should have all engineered features\n",
    "    df_analysis[f'Cluster_K{k}'] = cluster_labels\n",
    "\n",
    "    # Calculate mean for each feature per cluster (using unscaled data for interpretability)\n",
    "    # X.columns represents the unscaled feature names used in X_scaled_df\n",
    "    cluster_means = df_analysis.groupby(f'Cluster_K{k}')[X.columns].mean()\n",
    "    print(\"Cluster Means (Average Feature Values for each Archetype - Unscaled):\")\n",
    "    print(cluster_means)\n",
    "    # --- SAVE TO CSV: Cluster Means ---\n",
    "    cluster_means.to_csv(f'cluster_means_K{k}.csv')\n",
    "    print(f\"Cluster means for K={k} saved to cluster_means_K{k}.csv\")\n",
    "\n",
    "\n",
    "    # Analyze Positional Distribution within each cluster\n",
    "    print(\"\\nPositional Distribution within each Cluster:\")\n",
    "    position_distribution = df_analysis.groupby(f'Cluster_K{k}')['Pos'].value_counts(normalize=True).unstack(fill_value=0)\n",
    "    print(position_distribution)\n",
    "    # --- SAVE TO CSV: Positional Distribution ---\n",
    "    position_distribution.to_csv(f'position_distribution_K{k}.csv')\n",
    "    print(f\"Positional distribution for K={k} saved to position_distribution_K{k}.csv\")\n",
    "\n",
    "\n",
    "    # Display top players for each cluster (example)\n",
    "    print(\"\\nTop Players by Minutes Played in each Cluster (Example):\")\n",
    "    # Prepare a list to store data for all players in current K, to save to one CSV\n",
    "    all_cluster_players_data = []\n",
    "\n",
    "    for cluster_id in range(k):\n",
    "        # Get players in this cluster, sorted by minutes played (MP)\n",
    "        cluster_players = df_analysis[df_analysis[f'Cluster_K{k}'] == cluster_id].sort_values(by='MP', ascending=False)\n",
    "        print(f\"  Cluster {cluster_id} (Top 5 players by MP):\")\n",
    "        # Adjust displayed columns as desired for interpretation\n",
    "        display_cols = ['Player', 'Pos', 'MP', 'PTS_per36', 'AST_per36', 'TRB_per36', 'eFG%']\n",
    "        print(cluster_players[display_cols].head())\n",
    "\n",
    "        # Add all players from this cluster to the list for full CSV export\n",
    "        # Also add the cluster ID to each player's data\n",
    "        cluster_players_with_id = cluster_players[display_cols + [f'Cluster_K{k}']].copy()\n",
    "        all_cluster_players_data.append(cluster_players_with_id)\n",
    "\n",
    "    # --- SAVE TO CSV: All Players with Cluster Assignments ---\n",
    "    if all_cluster_players_data:\n",
    "        full_players_df = pd.concat(all_cluster_players_data)\n",
    "        full_players_df.to_csv(f'all_players_with_clusters_K{k}.csv', index=False)\n",
    "        print(f\"All players with their K={k} cluster assignments saved to all_players_with_clusters_K{k}.csv\")\n",
    "    else:\n",
    "        print(f\"No players found for K={k} to save to CSV.\")"
   ]
  },
  {
   "cell_type": "code",
   "execution_count": 22,
   "metadata": {},
   "outputs": [
    {
     "data": {
      "text/plain": [
       "Index(['Player', 'Pos', 'Age', 'Tm', 'G', 'GS', 'MP', 'FG%', '3P%', '2P%',\n",
       "       'eFG%', 'FT%', 'FG_per36', 'FGA_per36', '3P_per36', '3PA_per36',\n",
       "       '2P_per36', '2PA_per36', 'FT_per36', 'FTA_per36', 'ORB_per36',\n",
       "       'DRB_per36', 'TRB_per36', 'AST_per36', 'STL_per36', 'BLK_per36',\n",
       "       'TOV_per36', 'PF_per36', 'PTS_per36'],\n",
       "      dtype='object')"
      ]
     },
     "execution_count": 22,
     "metadata": {},
     "output_type": "execute_result"
    }
   ],
   "source": [
    "df.columns"
   ]
  },
  {
   "cell_type": "code",
   "execution_count": 24,
   "metadata": {},
   "outputs": [
    {
     "name": "stdout",
     "output_type": "stream",
     "text": [
      "Saved: top_5_players_per_cluster_K13_all_stats.csv\n"
     ]
    }
   ],
   "source": [
    "K = 13  # Number of clusters\n",
    "cluster_col = f'Cluster_K{K}'\n",
    "\n",
    "top_players_list = []\n",
    "for cluster_id in range(K):\n",
    "    top_players = (\n",
    "        df_analysis[df_analysis[cluster_col] == cluster_id]\n",
    "        .sort_values(by='MP', ascending=False)\n",
    "        .head(5)\n",
    "        .copy()\n",
    "    )\n",
    "    top_players['Cluster'] = cluster_id\n",
    "    top_players_list.append(top_players)\n",
    "\n",
    "all_top_players = pd.concat(top_players_list, ignore_index=True)\n",
    "all_top_players.to_csv(f'top_5_players_per_cluster_K{K}_all_stats.csv', index=False)\n",
    "print(f\"Saved: top_5_players_per_cluster_K{K}_all_stats.csv\")"
   ]
  },
  {
   "cell_type": "code",
   "execution_count": 25,
   "metadata": {},
   "outputs": [
    {
     "name": "stdout",
     "output_type": "stream",
     "text": [
      "\n",
      "DataFrame with Archetype Names:\n",
      "             Player Pos    MP  Cluster_K13  \\\n",
      "0  Precious Achiuwa   C  20.7            1   \n",
      "1      Steven Adams   C  27.0            8   \n",
      "2       Bam Adebayo   C  34.6            1   \n",
      "3      Ochai Agbaji  SG  20.5            6   \n",
      "4      Santi Aldama  PF  21.8            4   \n",
      "\n",
      "                          Archetype_Name  PTS_per36  AST_per36  TRB_per36  \\\n",
      "0                 Scoring mobile centers  16.000000   1.565217  10.434783   \n",
      "1  Efficient rebounding paint protectors  11.466667   3.066667  15.333333   \n",
      "2                 Scoring mobile centers  21.225434   3.329480   9.572254   \n",
      "3                  Midcourt 3&D reserves  13.873171   1.931707   3.687805   \n",
      "4            Mid-size defensive forwards  14.862385   2.146789   7.926606   \n",
      "\n",
      "    eFG%  \n",
      "0  0.521  \n",
      "1  0.597  \n",
      "2  0.541  \n",
      "3  0.532  \n",
      "4  0.560  \n",
      "\n",
      "Final player data with archetypes saved to nba_players_with_archetypes_K13_final.csv\n"
     ]
    }
   ],
   "source": [
    "import pandas as pd\n",
    "from sklearn.cluster import KMeans # Make sure this import is at the top of your script\n",
    "\n",
    "# Assuming X_scaled_df, df, and features_for_clustering are already defined and prepared.\n",
    "# 'df' should be the DataFrame that already contains all the engineered features\n",
    "# (e.g., 'PTS_per36', 'eFG%', 'MP', etc.).\n",
    "\n",
    "# Define your chosen K value\n",
    "final_k_value = 13 # This is the K you decided on\n",
    "\n",
    "# Fit KMeans model for the final K (or retrieve if already fitted and stored in kmeans_models)\n",
    "# If you ran the loop and stored models, you can use: kmeans = kmeans_models[final_k_value]\n",
    "# Otherwise, fit it now:\n",
    "kmeans_final = KMeans(n_clusters=final_k_value, random_state=42, n_init='auto')\n",
    "kmeans_final.fit(X_scaled_df) # Fit to your scaled data\n",
    "\n",
    "# Get the cluster labels\n",
    "cluster_labels_final = kmeans_final.labels_\n",
    "\n",
    "# Add cluster labels to your main DataFrame\n",
    "# Using df directly if it contains all engineered features and is your main working DataFrame\n",
    "df[f'Cluster_K{final_k_value}'] = cluster_labels_final\n",
    "\n",
    "# --- Define your master archetype mapping ---\n",
    "# IMPORTANT: Replace these with YOUR FINALIZED NAMES and ensure the cluster IDs match\n",
    "archetype_mapping = {\n",
    "    0: \"Off-ball 3&D three-point shooters\",\n",
    "    1: \"Scoring mobile centers\",\n",
    "    2: \"Efficient mid-size scorers\",\n",
    "    3: \"Veteran pure guards\",\n",
    "    4: \"Mid-size defensive forwards\",\n",
    "    5: \"High-volume perimeter playmakers\",\n",
    "    6: \"Midcourt 3&D reserves\",\n",
    "    7: \"Low-scoring, playmaking defensive wings\",\n",
    "    8: \"Efficient rebounding paint protectors\",\n",
    "    9: \"All-around high-usage bigs\",\n",
    "    10: \"High-volume, versatile scorers\", # <--- Re-evaluate this one\n",
    "    11: \"Low-volume defensive playmakers\",\n",
    "    12: \"High-impact playmaking scorers\"\n",
    "}\n",
    "\n",
    "# Create the new 'Archetype_Name' column by mapping the cluster IDs\n",
    "df['Archetype_Name'] = df[f'Cluster_K{final_k_value}'].map(archetype_mapping)\n",
    "\n",
    "# Display a sample to confirm the new column\n",
    "print(\"\\nDataFrame with Archetype Names:\")\n",
    "print(df[['Player', 'Pos', 'MP', f'Cluster_K{final_k_value}', 'Archetype_Name', 'PTS_per36', 'AST_per36', 'TRB_per36', 'eFG%']].head())\n",
    "\n",
    "# Save your final DataFrame with Archetype Names to CSV\n",
    "output_filename = f'nba_players_with_archetypes_K{final_k_value}_final.csv'\n",
    "df.to_csv(output_filename, index=False)\n",
    "print(f\"\\nFinal player data with archetypes saved to {output_filename}\")"
   ]
  },
  {
   "cell_type": "code",
   "execution_count": 26,
   "metadata": {},
   "outputs": [
    {
     "name": "stdout",
     "output_type": "stream",
     "text": [
      "\n",
      "--- Archetype Summary Statistics ---\n",
      "                                         Player_Count    Avg_Age  \\\n",
      "Archetype_Name                                                     \n",
      "Mid-size defensive forwards                        72  25.416667   \n",
      "Midcourt 3&D reserves                              72  26.972222   \n",
      "Veteran pure guards                                69  27.724638   \n",
      "Off-ball 3&D three-point shooters                  62  25.919355   \n",
      "Scoring mobile centers                             45  25.955556   \n",
      "High-volume perimeter playmakers                   38  25.789474   \n",
      "Efficient rebounding paint protectors              35  24.514286   \n",
      "Low-scoring, playmaking defensive wings            34  26.764706   \n",
      "Low-volume defensive playmakers                    29  25.034483   \n",
      "High-volume, versatile scorers                     25  27.800000   \n",
      "Efficient mid-size scorers                         22  25.318182   \n",
      "All-around high-usage bigs                          9  27.555556   \n",
      "High-impact playmaking scorers                      5  27.400000   \n",
      "\n",
      "                                         Avg_Games_Played  Avg_Minutes_Played  \\\n",
      "Archetype_Name                                                                  \n",
      "Mid-size defensive forwards                     49.763889           19.218056   \n",
      "Midcourt 3&D reserves                           50.305556           18.923611   \n",
      "Veteran pure guards                             51.942029           21.201449   \n",
      "Off-ball 3&D three-point shooters               53.064516           23.174194   \n",
      "Scoring mobile centers                          57.022222           22.913333   \n",
      "High-volume perimeter playmakers                53.947368           27.968421   \n",
      "Efficient rebounding paint protectors           53.485714           17.482857   \n",
      "Low-scoring, playmaking defensive wings         44.117647           19.485294   \n",
      "Low-volume defensive playmakers                 55.758621           24.634483   \n",
      "High-volume, versatile scorers                  57.400000           33.812000   \n",
      "Efficient mid-size scorers                      58.272727           29.740909   \n",
      "All-around high-usage bigs                      57.222222           33.800000   \n",
      "High-impact playmaking scorers                  65.400000           35.780000   \n",
      "\n",
      "                                         Avg_PTS_per36  Avg_AST_per36  \\\n",
      "Archetype_Name                                                          \n",
      "Mid-size defensive forwards                  14.528835       2.457578   \n",
      "Midcourt 3&D reserves                        11.171494       2.134078   \n",
      "Veteran pure guards                          13.203718       4.336064   \n",
      "Off-ball 3&D three-point shooters            17.121022       2.555475   \n",
      "Scoring mobile centers                       18.265450       2.448352   \n",
      "High-volume perimeter playmakers             20.517645       6.330620   \n",
      "Efficient rebounding paint protectors        12.390427       2.026504   \n",
      "Low-scoring, playmaking defensive wings       9.930642       3.397038   \n",
      "Low-volume defensive playmakers              15.141456       5.813871   \n",
      "High-volume, versatile scorers               24.706187       5.429194   \n",
      "Efficient mid-size scorers                   22.515675       3.430924   \n",
      "All-around high-usage bigs                   29.674374       6.081504   \n",
      "High-impact playmaking scorers               30.225124       7.354205   \n",
      "\n",
      "                                         Avg_TRB_per36  Avg_STL_per36  \\\n",
      "Archetype_Name                                                          \n",
      "Mid-size defensive forwards                   7.842097       1.012065   \n",
      "Midcourt 3&D reserves                         5.238008       0.915996   \n",
      "Veteran pure guards                           3.832759       1.217281   \n",
      "Off-ball 3&D three-point shooters             4.906423       1.014976   \n",
      "Scoring mobile centers                       11.241033       0.868821   \n",
      "High-volume perimeter playmakers              4.465337       1.147547   \n",
      "Efficient rebounding paint protectors        11.315828       0.964392   \n",
      "Low-scoring, playmaking defensive wings       7.301690       1.872367   \n",
      "Low-volume defensive playmakers               4.882819       1.466035   \n",
      "High-volume, versatile scorers                6.845814       1.020135   \n",
      "Efficient mid-size scorers                    4.565658       0.959647   \n",
      "All-around high-usage bigs                    9.100951       1.255014   \n",
      "High-impact playmaking scorers                6.266032       1.085929   \n",
      "\n",
      "                                         Avg_BLK_per36  Avg_eFG_pct  \\\n",
      "Archetype_Name                                                        \n",
      "Mid-size defensive forwards                   0.790016     0.534722   \n",
      "Midcourt 3&D reserves                         0.593867     0.535361   \n",
      "Veteran pure guards                           0.369694     0.520072   \n",
      "Off-ball 3&D three-point shooters             0.356483     0.547694   \n",
      "Scoring mobile centers                        1.262325     0.594756   \n",
      "High-volume perimeter playmakers              0.401581     0.520579   \n",
      "Efficient rebounding paint protectors         1.990072     0.636000   \n",
      "Low-scoring, playmaking defensive wings       0.771333     0.539059   \n",
      "Low-volume defensive playmakers               0.520167     0.503759   \n",
      "High-volume, versatile scorers                0.605446     0.535720   \n",
      "Efficient mid-size scorers                    0.331024     0.529682   \n",
      "All-around high-usage bigs                    1.040216     0.577222   \n",
      "High-impact playmaking scorers                0.399224     0.553200   \n",
      "\n",
      "                                         Avg_3P_pct  Avg_TOV_per36  \\\n",
      "Archetype_Name                                                       \n",
      "Mid-size defensive forwards                0.329917       1.708307   \n",
      "Midcourt 3&D reserves                      0.356764       1.113990   \n",
      "Veteran pure guards                        0.353667       1.818313   \n",
      "Off-ball 3&D three-point shooters          0.379823       1.497688   \n",
      "Scoring mobile centers                     0.231556       2.168244   \n",
      "High-volume perimeter playmakers           0.369474       2.795177   \n",
      "Efficient rebounding paint protectors      0.179000       1.775038   \n",
      "Low-scoring, playmaking defensive wings    0.327441       1.646681   \n",
      "Low-volume defensive playmakers            0.342621       2.295816   \n",
      "High-volume, versatile scorers             0.350040       2.975624   \n",
      "Efficient mid-size scorers                 0.369000       2.080515   \n",
      "All-around high-usage bigs                 0.332333       3.299620   \n",
      "High-impact playmaking scorers             0.365000       3.448674   \n",
      "\n",
      "                                         Avg_PF_per36  \n",
      "Archetype_Name                                         \n",
      "Mid-size defensive forwards                  3.670845  \n",
      "Midcourt 3&D reserves                        3.212805  \n",
      "Veteran pure guards                          2.659742  \n",
      "Off-ball 3&D three-point shooters            2.521067  \n",
      "Scoring mobile centers                       3.950641  \n",
      "High-volume perimeter playmakers             2.485607  \n",
      "Efficient rebounding paint protectors        4.497921  \n",
      "Low-scoring, playmaking defensive wings      3.677366  \n",
      "Low-volume defensive playmakers              2.875514  \n",
      "High-volume, versatile scorers               2.654018  \n",
      "Efficient mid-size scorers                   2.491265  \n",
      "All-around high-usage bigs                   2.552434  \n",
      "High-impact playmaking scorers               2.028755  \n",
      "\n",
      "Archetype summary statistics saved to 'archetype_summary_statistics.csv'\n",
      "\n",
      "--- Positional Distribution within Archetypes ---\n",
      "Pos                                             C        PF      PF-C  \\\n",
      "Archetype_Name                                                          \n",
      "All-around high-usage bigs               0.333333  0.444444  0.000000   \n",
      "Efficient mid-size scorers               0.000000  0.136364  0.000000   \n",
      "Efficient rebounding paint protectors    0.942857  0.057143  0.000000   \n",
      "High-impact playmaking scorers           0.000000  0.000000  0.000000   \n",
      "High-volume perimeter playmakers         0.000000  0.000000  0.000000   \n",
      "High-volume, versatile scorers           0.040000  0.360000  0.000000   \n",
      "Low-scoring, playmaking defensive wings  0.147059  0.264706  0.000000   \n",
      "Low-volume defensive playmakers          0.000000  0.034483  0.000000   \n",
      "Mid-size defensive forwards              0.236111  0.430556  0.013889   \n",
      "Midcourt 3&D reserves                    0.069444  0.305556  0.000000   \n",
      "Off-ball 3&D three-point shooters        0.000000  0.145161  0.000000   \n",
      "Scoring mobile centers                   0.844444  0.133333  0.000000   \n",
      "Veteran pure guards                      0.000000  0.014493  0.000000   \n",
      "\n",
      "Pos                                         PF-SF        PG     PG-SG  \\\n",
      "Archetype_Name                                                          \n",
      "All-around high-usage bigs               0.000000  0.222222  0.000000   \n",
      "Efficient mid-size scorers               0.000000  0.090909  0.000000   \n",
      "Efficient rebounding paint protectors    0.000000  0.000000  0.000000   \n",
      "High-impact playmaking scorers           0.000000  0.800000  0.000000   \n",
      "High-volume perimeter playmakers         0.000000  0.526316  0.000000   \n",
      "High-volume, versatile scorers           0.000000  0.200000  0.040000   \n",
      "Low-scoring, playmaking defensive wings  0.000000  0.117647  0.000000   \n",
      "Low-volume defensive playmakers          0.000000  0.517241  0.000000   \n",
      "Mid-size defensive forwards              0.013889  0.000000  0.000000   \n",
      "Midcourt 3&D reserves                    0.000000  0.013889  0.000000   \n",
      "Off-ball 3&D three-point shooters        0.000000  0.064516  0.000000   \n",
      "Scoring mobile centers                   0.000000  0.000000  0.000000   \n",
      "Veteran pure guards                      0.000000  0.420290  0.014493   \n",
      "\n",
      "Pos                                            SF     SF-PF     SF-SG  \\\n",
      "Archetype_Name                                                          \n",
      "All-around high-usage bigs               0.000000  0.000000  0.000000   \n",
      "Efficient mid-size scorers               0.227273  0.000000  0.045455   \n",
      "Efficient rebounding paint protectors    0.000000  0.000000  0.000000   \n",
      "High-impact playmaking scorers           0.200000  0.000000  0.000000   \n",
      "High-volume perimeter playmakers         0.000000  0.000000  0.000000   \n",
      "High-volume, versatile scorers           0.200000  0.000000  0.000000   \n",
      "Low-scoring, playmaking defensive wings  0.264706  0.000000  0.029412   \n",
      "Low-volume defensive playmakers          0.206897  0.000000  0.000000   \n",
      "Mid-size defensive forwards              0.250000  0.000000  0.000000   \n",
      "Midcourt 3&D reserves                    0.375000  0.000000  0.000000   \n",
      "Off-ball 3&D three-point shooters        0.403226  0.016129  0.000000   \n",
      "Scoring mobile centers                   0.022222  0.000000  0.000000   \n",
      "Veteran pure guards                      0.086957  0.000000  0.000000   \n",
      "\n",
      "Pos                                            SG     SG-PG  \n",
      "Archetype_Name                                               \n",
      "All-around high-usage bigs               0.000000  0.000000  \n",
      "Efficient mid-size scorers               0.500000  0.000000  \n",
      "Efficient rebounding paint protectors    0.000000  0.000000  \n",
      "High-impact playmaking scorers           0.000000  0.000000  \n",
      "High-volume perimeter playmakers         0.447368  0.026316  \n",
      "High-volume, versatile scorers           0.160000  0.000000  \n",
      "Low-scoring, playmaking defensive wings  0.176471  0.000000  \n",
      "Low-volume defensive playmakers          0.241379  0.000000  \n",
      "Mid-size defensive forwards              0.055556  0.000000  \n",
      "Midcourt 3&D reserves                    0.222222  0.013889  \n",
      "Off-ball 3&D three-point shooters        0.370968  0.000000  \n",
      "Scoring mobile centers                   0.000000  0.000000  \n",
      "Veteran pure guards                      0.463768  0.000000  \n",
      "\n",
      "Archetype positional distribution saved to 'archetype_position_distribution.csv'\n"
     ]
    }
   ],
   "source": [
    "\n",
    "\n",
    "# Group by Archetype Name and calculate descriptive statistics for key metrics\n",
    "archetype_summary = df.groupby('Archetype_Name').agg(\n",
    "    # Demographic insights\n",
    "    Player_Count=('Player', 'count'),\n",
    "    Avg_Age=('Age', 'mean'),\n",
    "    Avg_Games_Played=('G', 'mean'),\n",
    "    Avg_Minutes_Played=('MP', 'mean'),\n",
    "\n",
    "    # General performance (using some per_36 for consistency, but also raw for context)\n",
    "    Avg_PTS_per36=('PTS_per36', 'mean'),\n",
    "    Avg_AST_per36=('AST_per36', 'mean'),\n",
    "    Avg_TRB_per36=('TRB_per36', 'mean'),\n",
    "    Avg_STL_per36=('STL_per36', 'mean'),\n",
    "    Avg_BLK_per36=('BLK_per36', 'mean'),\n",
    "    Avg_eFG_pct=('eFG%', 'mean'),\n",
    "    Avg_3P_pct=('3P%', 'mean'),\n",
    "    Avg_TOV_per36=('TOV_per36', 'mean'),\n",
    "    Avg_PF_per36=('PF_per36', 'mean'),\n",
    "\n",
    "    # You can add other relevant stats that were NOT in your clustering features\n",
    "    # For example, if you had Team +/- when player is on court, or Win Shares per 48 min\n",
    "    # Avg_Net_Rating=('Net_Rating', 'mean'),\n",
    "    # Avg_Win_Shares_per48=('WS_per_48', 'mean'),\n",
    ").sort_values(by='Player_Count', ascending=False) # Sort by size for easy viewing\n",
    "\n",
    "print(\"\\n--- Archetype Summary Statistics ---\")\n",
    "print(archetype_summary)\n",
    "\n",
    "# Save this summary for your records\n",
    "archetype_summary.to_csv('archetype_summary_statistics.csv')\n",
    "print(\"\\nArchetype summary statistics saved to 'archetype_summary_statistics.csv'\")\n",
    "\n",
    "# Positional distribution (you already have this, but good to revisit)\n",
    "print(\"\\n--- Positional Distribution within Archetypes ---\")\n",
    "position_distribution = df.groupby('Archetype_Name')['Pos'].value_counts(normalize=True).unstack(fill_value=0)\n",
    "print(position_distribution)\n",
    "position_distribution.to_csv('archetype_position_distribution.csv')\n",
    "print(\"\\nArchetype positional distribution saved to 'archetype_position_distribution.csv'\")"
   ]
  },
  {
   "cell_type": "code",
   "execution_count": 34,
   "metadata": {},
   "outputs": [],
   "source": [
    "# --- Ensure these variables are defined ---\n",
    "\n",
    "# Assuming 'df' is your DataFrame after filtering and feature engineering\n",
    "# (i.e., it already contains 'PTS_per36', 'eFG%', etc., and 'MP')\n",
    "\n",
    "# Define the list of features you used for clustering\n",
    "# THIS IS THE MISSING DEFINITION FOR 'features_for_clustering'\n",
    "features_for_clustering = [\n",
    "    'PTS_per36', 'AST_per36', 'TRB_per36', '3P_per36', 'BLK_per36',\n",
    "    'STL_per36', 'TOV_per36', 'eFG%'\n",
    "    # Make sure this list exactly matches the names of the columns\n",
    "    # that exist in your 'df' DataFrame and were used for X_scaled_df\n",
    "]\n",
    "\n",
    "# Ensure 'final_k_value' and 'archetype_mapping' are also defined\n",
    "# (from the previous step where you finalized and named your clusters)\n",
    "final_k_value = 13 # Your chosen K value\n",
    "archetype_mapping = {\n",
    "    0: \"Off-ball 3&D three-point shooters\",\n",
    "    1: \"Scoring mobile centers\",\n",
    "    2: \"Efficient mid-size scorers\",\n",
    "    3: \"Veteran pure guards\",\n",
    "    4: \"Mid-size defensive forwards\",\n",
    "    5: \"High-volume perimeter playmakers\",\n",
    "    6: \"Midcourt 3&D reserves\",\n",
    "    7: \"Low-scoring, playmaking defensive wings\",\n",
    "    8: \"Efficient rebounding paint protectors\",\n",
    "    9: \"All-around high-usage bigs\",\n",
    "    10: \"All-around offensive shooters\", # Remember to confirm this name\n",
    "    11: \"Low-volume defensive playmakers\",\n",
    "    12: \"High-impact playmaking scorers\"\n",
    "}\n",
    "\n",
    "# --- END of essential variable definitions ---\n",
    "\n",
    "# Your Plotly Express code for radar charts follows here...\n",
    "# (The code you provided in your last prompt)"
   ]
  },
  {
   "cell_type": "code",
   "execution_count": 38,
   "metadata": {},
   "outputs": [
    {
     "name": "stdout",
     "output_type": "stream",
     "text": [
      "\n",
      "Scaled data for radar charts (first 5 archetypes):\n",
      "                                       PTS_per36  AST_per36  TRB_per36  \\\n",
      "Archetype_Name                                                           \n",
      "All-around high-usage bigs              0.972862   0.761116   0.704015   \n",
      "Efficient mid-size scorers              0.620121   0.263607   0.097941   \n",
      "Efficient rebounding paint protectors   0.121205   0.000000   1.000000   \n",
      "High-impact playmaking scorers          1.000000   1.000000   0.325170   \n",
      "High-volume perimeter playmakers        0.521669   0.807875   0.084535   \n",
      "\n",
      "                                       3P_per36  BLK_per36  STL_per36  \\\n",
      "Archetype_Name                                                          \n",
      "All-around high-usage bigs             0.245970   0.427469   0.384828   \n",
      "Efficient mid-size scorers             0.613304   0.000000   0.090506   \n",
      "Efficient rebounding paint protectors  0.000000   1.000000   0.095234   \n",
      "High-impact playmaking scorers         1.000000   0.041108   0.216341   \n",
      "High-volume perimeter playmakers       0.809675   0.042529   0.277741   \n",
      "\n",
      "                                       TOV_per36      eFG%  \n",
      "Archetype_Name                                              \n",
      "All-around high-usage bigs              0.936157  0.555527  \n",
      "Efficient mid-size scorers              0.413986  0.196029  \n",
      "Efficient rebounding paint protectors   0.283143  1.000000  \n",
      "High-impact playmaking scorers          1.000000  0.373872  \n",
      "High-volume perimeter playmakers        0.720092  0.127194  \n",
      "\n",
      "Melted data for radar charts (first 5 rows):\n",
      "                          Archetype_Name  Statistic  Scaled_Value\n",
      "0             All-around high-usage bigs  PTS_per36      0.972862\n",
      "1             Efficient mid-size scorers  PTS_per36      0.620121\n",
      "2  Efficient rebounding paint protectors  PTS_per36      0.121205\n",
      "3         High-impact playmaking scorers  PTS_per36      1.000000\n",
      "4       High-volume perimeter playmakers  PTS_per36      0.521669\n"
     ]
    },
    {
     "data": {
      "application/vnd.plotly.v1+json": {
       "config": {
        "plotlyServerURL": "https://plot.ly"
       },
       "data": [
        {
         "fill": "toself",
         "hovertemplate": "Archetype_Name=All-around high-usage bigs<br>Scaled Value (0-1)=%{r}<br>Statistic=%{theta}<extra></extra>",
         "legendgroup": "All-around high-usage bigs",
         "line": {
          "color": "#636efa",
          "dash": "solid"
         },
         "marker": {
          "symbol": "circle"
         },
         "mode": "lines",
         "name": "All-around high-usage bigs",
         "r": {
          "bdata": "jkGIrK8h7z+5gKTDEFvoP6Y0+A9Kh+Y/rgzuxPR7zz/DvScqqFvbP+4v/PoGodg/CCXADP/07T/4ohCv38bhP45BiKyvIe8/",
          "dtype": "f8"
         },
         "showlegend": true,
         "subplot": "polar",
         "theta": [
          "PTS_per36",
          "AST_per36",
          "TRB_per36",
          "3P_per36",
          "BLK_per36",
          "STL_per36",
          "TOV_per36",
          "eFG%",
          "PTS_per36"
         ],
         "type": "scatterpolar"
        },
        {
         "fill": "toself",
         "hovertemplate": "Archetype_Name=Efficient mid-size scorers<br>Scaled Value (0-1)=%{r}<br>Statistic=%{theta}<extra></extra>",
         "legendgroup": "Efficient mid-size scorers",
         "line": {
          "color": "#EF553B",
          "dash": "solid"
         },
         "marker": {
          "symbol": "circle"
         },
         "mode": "lines",
         "name": "Efficient mid-size scorers",
         "r": {
          "bdata": "CDW93QfY4z/iETU48d7QP8j0mVyoErk/vNDxuDCg4z8AAAAAAAAAADhkredeK7c/TXNaeb1+2j/gUty+fRfJPwg1vd0H2OM/",
          "dtype": "f8"
         },
         "showlegend": true,
         "subplot": "polar",
         "theta": [
          "PTS_per36",
          "AST_per36",
          "TRB_per36",
          "3P_per36",
          "BLK_per36",
          "STL_per36",
          "TOV_per36",
          "eFG%",
          "PTS_per36"
         ],
         "type": "scatterpolar"
        },
        {
         "fill": "toself",
         "hovertemplate": "Archetype_Name=Efficient rebounding paint protectors<br>Scaled Value (0-1)=%{r}<br>Statistic=%{theta}<extra></extra>",
         "legendgroup": "Efficient rebounding paint protectors",
         "line": {
          "color": "#00cc96",
          "dash": "solid"
         },
         "marker": {
          "symbol": "circle"
         },
         "mode": "lines",
         "name": "Efficient rebounding paint protectors",
         "r": {
          "bdata": "cOe0YUQHvz8AAAAAAAAAAAAAAAAAAPA/AAAAAAAAAAAAAAAAAADwP3ifCjI7Ybg/C49dhwIf0j8AAAAAAADwP3DntGFEB78/",
          "dtype": "f8"
         },
         "showlegend": true,
         "subplot": "polar",
         "theta": [
          "PTS_per36",
          "AST_per36",
          "TRB_per36",
          "3P_per36",
          "BLK_per36",
          "STL_per36",
          "TOV_per36",
          "eFG%",
          "PTS_per36"
         ],
         "type": "scatterpolar"
        },
        {
         "fill": "toself",
         "hovertemplate": "Archetype_Name=High-impact playmaking scorers<br>Scaled Value (0-1)=%{r}<br>Statistic=%{theta}<extra></extra>",
         "legendgroup": "High-impact playmaking scorers",
         "line": {
          "color": "#ab63fa",
          "dash": "solid"
         },
         "marker": {
          "symbol": "circle"
         },
         "mode": "lines",
         "name": "High-impact playmaking scorers",
         "r": {
          "bdata": "AAAAAAAA8D/////////vP5x3NO2Xz9Q/AAAAAAAA8D+oxF3OGAylPwywhYETscs/AQAAAAAA8D8g85vJhe3XPwAAAAAAAPA/",
          "dtype": "f8"
         },
         "showlegend": true,
         "subplot": "polar",
         "theta": [
          "PTS_per36",
          "AST_per36",
          "TRB_per36",
          "3P_per36",
          "BLK_per36",
          "STL_per36",
          "TOV_per36",
          "eFG%",
          "PTS_per36"
         ],
         "type": "scatterpolar"
        },
        {
         "fill": "toself",
         "hovertemplate": "Archetype_Name=High-volume perimeter playmakers<br>Scaled Value (0-1)=%{r}<br>Statistic=%{theta}<extra></extra>",
         "legendgroup": "High-volume perimeter playmakers",
         "line": {
          "color": "#FFA15A",
          "dash": "solid"
         },
         "marker": {
          "symbol": "circle"
         },
         "mode": "lines",
         "name": "High-volume perimeter playmakers",
         "r": {
          "bdata": "mIAWRoOx4D9756fVHNrpP7j3oh8QpLU/o8TBDNzo6T98LajRWcalP4rloz2CxtE/IJGHw/0K5z/A4fip5UfAP5iAFkaDseA/",
          "dtype": "f8"
         },
         "showlegend": true,
         "subplot": "polar",
         "theta": [
          "PTS_per36",
          "AST_per36",
          "TRB_per36",
          "3P_per36",
          "BLK_per36",
          "STL_per36",
          "TOV_per36",
          "eFG%",
          "PTS_per36"
         ],
         "type": "scatterpolar"
        },
        {
         "fill": "toself",
         "hovertemplate": "Archetype_Name=High-volume, versatile scorers<br>Scaled Value (0-1)=%{r}<br>Statistic=%{theta}<extra></extra>",
         "legendgroup": "High-volume, versatile scorers",
         "line": {
          "color": "#19d3f3",
          "dash": "solid"
         },
         "marker": {
          "symbol": "circle"
         },
         "mode": "lines",
         "name": "High-volume, versatile scorers",
         "r": {
          "bdata": "6DEIxD5M5z+ZhunSDnDkP1hXb8YCxdk/d2aguI754z/qrDtaISzFP1S3gfe9TMM/1sAMpiaE6T/AhesmsO/OP+gxCMQ+TOc/",
          "dtype": "f8"
         },
         "showlegend": true,
         "subplot": "polar",
         "theta": [
          "PTS_per36",
          "AST_per36",
          "TRB_per36",
          "3P_per36",
          "BLK_per36",
          "STL_per36",
          "TOV_per36",
          "eFG%",
          "PTS_per36"
         ],
         "type": "scatterpolar"
        },
        {
         "fill": "toself",
         "hovertemplate": "Archetype_Name=Low-scoring, playmaking defensive wings<br>Scaled Value (0-1)=%{r}<br>Statistic=%{theta}<extra></extra>",
         "legendgroup": "Low-scoring, playmaking defensive wings",
         "line": {
          "color": "#FF6692",
          "dash": "solid"
         },
         "marker": {
          "symbol": "circle"
         },
         "mode": "lines",
         "name": "Low-scoring, playmaking defensive wings",
         "r": {
          "bdata": "AAAAAAAAAAD67fSAu3bQP+Sd5Askq90/pr+hHqAjzz/WxymyS/zQPwAAAAAAAPA/tk1xV300zT+wtbGlgRXRPwAAAAAAAAAA",
          "dtype": "f8"
         },
         "showlegend": true,
         "subplot": "polar",
         "theta": [
          "PTS_per36",
          "AST_per36",
          "TRB_per36",
          "3P_per36",
          "BLK_per36",
          "STL_per36",
          "TOV_per36",
          "eFG%",
          "PTS_per36"
         ],
         "type": "scatterpolar"
        },
        {
         "fill": "toself",
         "hovertemplate": "Archetype_Name=Low-volume defensive playmakers<br>Scaled Value (0-1)=%{r}<br>Statistic=%{theta}<extra></extra>",
         "legendgroup": "Low-volume defensive playmakers",
         "line": {
          "color": "#B6E880",
          "dash": "solid"
         },
         "marker": {
          "symbol": "circle"
         },
         "mode": "lines",
         "name": "Low-volume defensive playmakers",
         "r": {
          "bdata": "jEfXGcJu0D9l2h4KjL/mPwTD/LAp9sE/njGzLO5O1j9IoOpgjS+9P+exUxIXC+M/jptYmtIy4D8AAAAAAAAAAIxH1xnCbtA/",
          "dtype": "f8"
         },
         "showlegend": true,
         "subplot": "polar",
         "theta": [
          "PTS_per36",
          "AST_per36",
          "TRB_per36",
          "3P_per36",
          "BLK_per36",
          "STL_per36",
          "TOV_per36",
          "eFG%",
          "PTS_per36"
         ],
         "type": "scatterpolar"
        },
        {
         "fill": "toself",
         "hovertemplate": "Archetype_Name=Mid-size defensive forwards<br>Scaled Value (0-1)=%{r}<br>Statistic=%{theta}<extra></extra>",
         "legendgroup": "Mid-size defensive forwards",
         "line": {
          "color": "#FF97FF",
          "dash": "solid"
         },
         "marker": {
          "symbol": "circle"
         },
         "mode": "lines",
         "name": "Mid-size defensive forwards",
         "r": {
          "bdata": "SNVe11wAzT90mL8to7a0PwA2wpwsJeE/j0Vs+ZgD2j97N22Iy7TRPzzQ1vM/RcI/Exdvb7ZK0D+gBrMNc/jNP0jVXtdcAM0/",
          "dtype": "f8"
         },
         "showlegend": true,
         "subplot": "polar",
         "theta": [
          "PTS_per36",
          "AST_per36",
          "TRB_per36",
          "3P_per36",
          "BLK_per36",
          "STL_per36",
          "TOV_per36",
          "eFG%",
          "PTS_per36"
         ],
         "type": "scatterpolar"
        },
        {
         "fill": "toself",
         "hovertemplate": "Archetype_Name=Midcourt 3&D reserves<br>Scaled Value (0-1)=%{r}<br>Statistic=%{theta}<extra></extra>",
         "legendgroup": "Midcourt 3&D reserves",
         "line": {
          "color": "#FECB52",
          "dash": "solid"
         },
         "marker": {
          "symbol": "circle"
         },
         "mode": "lines",
         "name": "Midcourt 3&D reserves",
         "r": {
          "bdata": "AMIhew1Orz+wYi+/E62UP8QENV+ECcg/S6phLyHx4z/+znhacUfEP/BiMm53Eag/AAAAAAAAAABAmyFfwpbOPwDCIXsNTq8/",
          "dtype": "f8"
         },
         "showlegend": true,
         "subplot": "polar",
         "theta": [
          "PTS_per36",
          "AST_per36",
          "TRB_per36",
          "3P_per36",
          "BLK_per36",
          "STL_per36",
          "TOV_per36",
          "eFG%",
          "PTS_per36"
         ],
         "type": "scatterpolar"
        },
        {
         "fill": "toself",
         "hovertemplate": "Archetype_Name=Off-ball 3&D three-point shooters<br>Scaled Value (0-1)=%{r}<br>Statistic=%{theta}<extra></extra>",
         "legendgroup": "Off-ball 3&D three-point shooters",
         "line": {
          "color": "#636efa",
          "dash": "solid"
         },
         "marker": {
          "symbol": "circle"
         },
         "mode": "lines",
         "name": "Off-ball 3&D three-point shooters",
         "r": {
          "bdata": "aJIeSOOs1j+8vjcQ3mq5P4S3oiyGXcI/j+AzCD0O7D/gVD6He22PP9QWnglNpMI/EvE1IlEJxT9AFe18TUPVP2iSHkjjrNY/",
          "dtype": "f8"
         },
         "showlegend": true,
         "subplot": "polar",
         "theta": [
          "PTS_per36",
          "AST_per36",
          "TRB_per36",
          "3P_per36",
          "BLK_per36",
          "STL_per36",
          "TOV_per36",
          "eFG%",
          "PTS_per36"
         ],
         "type": "scatterpolar"
        },
        {
         "fill": "toself",
         "hovertemplate": "Archetype_Name=Scoring mobile centers<br>Scaled Value (0-1)=%{r}<br>Statistic=%{theta}<extra></extra>",
         "legendgroup": "Scoring mobile centers",
         "line": {
          "color": "#EF553B",
          "dash": "solid"
         },
         "marker": {
          "symbol": "circle"
         },
         "mode": "lines",
         "name": "Scoring mobile centers",
         "r": {
          "bdata": "oBkGj8xI2j+oWIoxJkW0Pzap8EUeru8/XnuLNUFIxT9O2fYNjfbhPwAAAAAAAAAAufHy/GLm3D+Q271TBAXmP6AZBo/MSNo/",
          "dtype": "f8"
         },
         "showlegend": true,
         "subplot": "polar",
         "theta": [
          "PTS_per36",
          "AST_per36",
          "TRB_per36",
          "3P_per36",
          "BLK_per36",
          "STL_per36",
          "TOV_per36",
          "eFG%",
          "PTS_per36"
         ],
         "type": "scatterpolar"
        },
        {
         "fill": "toself",
         "hovertemplate": "Archetype_Name=Veteran pure guards<br>Scaled Value (0-1)=%{r}<br>Statistic=%{theta}<extra></extra>",
         "legendgroup": "Veteran pure guards",
         "line": {
          "color": "#00cc96",
          "dash": "solid"
         },
         "marker": {
          "symbol": "circle"
         },
         "mode": "lines",
         "name": "Veteran pure guards",
         "r": {
          "bdata": "SMvFcMukxD/avT81eL7bPwAAAAAAAAAAHOiS9qK64j+w7VIGM96XPy7uuWD+ONY/YctWLbFO0z+getyzypS/P0jLxXDLpMQ/",
          "dtype": "f8"
         },
         "showlegend": true,
         "subplot": "polar",
         "theta": [
          "PTS_per36",
          "AST_per36",
          "TRB_per36",
          "3P_per36",
          "BLK_per36",
          "STL_per36",
          "TOV_per36",
          "eFG%",
          "PTS_per36"
         ],
         "type": "scatterpolar"
        }
       ],
       "layout": {
        "height": 600,
        "legend": {
         "title": {
          "text": "Archetype_Name"
         },
         "tracegroupgap": 0
        },
        "polar": {
         "angularaxis": {
          "direction": "clockwise",
          "rotation": 90
         },
         "domain": {
          "x": [
           0,
           1
          ],
          "y": [
           0,
           1
          ]
         }
        },
        "template": {
         "data": {
          "bar": [
           {
            "error_x": {
             "color": "#2a3f5f"
            },
            "error_y": {
             "color": "#2a3f5f"
            },
            "marker": {
             "line": {
              "color": "#E5ECF6",
              "width": 0.5
             },
             "pattern": {
              "fillmode": "overlay",
              "size": 10,
              "solidity": 0.2
             }
            },
            "type": "bar"
           }
          ],
          "barpolar": [
           {
            "marker": {
             "line": {
              "color": "#E5ECF6",
              "width": 0.5
             },
             "pattern": {
              "fillmode": "overlay",
              "size": 10,
              "solidity": 0.2
             }
            },
            "type": "barpolar"
           }
          ],
          "carpet": [
           {
            "aaxis": {
             "endlinecolor": "#2a3f5f",
             "gridcolor": "white",
             "linecolor": "white",
             "minorgridcolor": "white",
             "startlinecolor": "#2a3f5f"
            },
            "baxis": {
             "endlinecolor": "#2a3f5f",
             "gridcolor": "white",
             "linecolor": "white",
             "minorgridcolor": "white",
             "startlinecolor": "#2a3f5f"
            },
            "type": "carpet"
           }
          ],
          "choropleth": [
           {
            "colorbar": {
             "outlinewidth": 0,
             "ticks": ""
            },
            "type": "choropleth"
           }
          ],
          "contour": [
           {
            "colorbar": {
             "outlinewidth": 0,
             "ticks": ""
            },
            "colorscale": [
             [
              0,
              "#0d0887"
             ],
             [
              0.1111111111111111,
              "#46039f"
             ],
             [
              0.2222222222222222,
              "#7201a8"
             ],
             [
              0.3333333333333333,
              "#9c179e"
             ],
             [
              0.4444444444444444,
              "#bd3786"
             ],
             [
              0.5555555555555556,
              "#d8576b"
             ],
             [
              0.6666666666666666,
              "#ed7953"
             ],
             [
              0.7777777777777778,
              "#fb9f3a"
             ],
             [
              0.8888888888888888,
              "#fdca26"
             ],
             [
              1,
              "#f0f921"
             ]
            ],
            "type": "contour"
           }
          ],
          "contourcarpet": [
           {
            "colorbar": {
             "outlinewidth": 0,
             "ticks": ""
            },
            "type": "contourcarpet"
           }
          ],
          "heatmap": [
           {
            "colorbar": {
             "outlinewidth": 0,
             "ticks": ""
            },
            "colorscale": [
             [
              0,
              "#0d0887"
             ],
             [
              0.1111111111111111,
              "#46039f"
             ],
             [
              0.2222222222222222,
              "#7201a8"
             ],
             [
              0.3333333333333333,
              "#9c179e"
             ],
             [
              0.4444444444444444,
              "#bd3786"
             ],
             [
              0.5555555555555556,
              "#d8576b"
             ],
             [
              0.6666666666666666,
              "#ed7953"
             ],
             [
              0.7777777777777778,
              "#fb9f3a"
             ],
             [
              0.8888888888888888,
              "#fdca26"
             ],
             [
              1,
              "#f0f921"
             ]
            ],
            "type": "heatmap"
           }
          ],
          "histogram": [
           {
            "marker": {
             "pattern": {
              "fillmode": "overlay",
              "size": 10,
              "solidity": 0.2
             }
            },
            "type": "histogram"
           }
          ],
          "histogram2d": [
           {
            "colorbar": {
             "outlinewidth": 0,
             "ticks": ""
            },
            "colorscale": [
             [
              0,
              "#0d0887"
             ],
             [
              0.1111111111111111,
              "#46039f"
             ],
             [
              0.2222222222222222,
              "#7201a8"
             ],
             [
              0.3333333333333333,
              "#9c179e"
             ],
             [
              0.4444444444444444,
              "#bd3786"
             ],
             [
              0.5555555555555556,
              "#d8576b"
             ],
             [
              0.6666666666666666,
              "#ed7953"
             ],
             [
              0.7777777777777778,
              "#fb9f3a"
             ],
             [
              0.8888888888888888,
              "#fdca26"
             ],
             [
              1,
              "#f0f921"
             ]
            ],
            "type": "histogram2d"
           }
          ],
          "histogram2dcontour": [
           {
            "colorbar": {
             "outlinewidth": 0,
             "ticks": ""
            },
            "colorscale": [
             [
              0,
              "#0d0887"
             ],
             [
              0.1111111111111111,
              "#46039f"
             ],
             [
              0.2222222222222222,
              "#7201a8"
             ],
             [
              0.3333333333333333,
              "#9c179e"
             ],
             [
              0.4444444444444444,
              "#bd3786"
             ],
             [
              0.5555555555555556,
              "#d8576b"
             ],
             [
              0.6666666666666666,
              "#ed7953"
             ],
             [
              0.7777777777777778,
              "#fb9f3a"
             ],
             [
              0.8888888888888888,
              "#fdca26"
             ],
             [
              1,
              "#f0f921"
             ]
            ],
            "type": "histogram2dcontour"
           }
          ],
          "mesh3d": [
           {
            "colorbar": {
             "outlinewidth": 0,
             "ticks": ""
            },
            "type": "mesh3d"
           }
          ],
          "parcoords": [
           {
            "line": {
             "colorbar": {
              "outlinewidth": 0,
              "ticks": ""
             }
            },
            "type": "parcoords"
           }
          ],
          "pie": [
           {
            "automargin": true,
            "type": "pie"
           }
          ],
          "scatter": [
           {
            "fillpattern": {
             "fillmode": "overlay",
             "size": 10,
             "solidity": 0.2
            },
            "type": "scatter"
           }
          ],
          "scatter3d": [
           {
            "line": {
             "colorbar": {
              "outlinewidth": 0,
              "ticks": ""
             }
            },
            "marker": {
             "colorbar": {
              "outlinewidth": 0,
              "ticks": ""
             }
            },
            "type": "scatter3d"
           }
          ],
          "scattercarpet": [
           {
            "marker": {
             "colorbar": {
              "outlinewidth": 0,
              "ticks": ""
             }
            },
            "type": "scattercarpet"
           }
          ],
          "scattergeo": [
           {
            "marker": {
             "colorbar": {
              "outlinewidth": 0,
              "ticks": ""
             }
            },
            "type": "scattergeo"
           }
          ],
          "scattergl": [
           {
            "marker": {
             "colorbar": {
              "outlinewidth": 0,
              "ticks": ""
             }
            },
            "type": "scattergl"
           }
          ],
          "scattermap": [
           {
            "marker": {
             "colorbar": {
              "outlinewidth": 0,
              "ticks": ""
             }
            },
            "type": "scattermap"
           }
          ],
          "scattermapbox": [
           {
            "marker": {
             "colorbar": {
              "outlinewidth": 0,
              "ticks": ""
             }
            },
            "type": "scattermapbox"
           }
          ],
          "scatterpolar": [
           {
            "marker": {
             "colorbar": {
              "outlinewidth": 0,
              "ticks": ""
             }
            },
            "type": "scatterpolar"
           }
          ],
          "scatterpolargl": [
           {
            "marker": {
             "colorbar": {
              "outlinewidth": 0,
              "ticks": ""
             }
            },
            "type": "scatterpolargl"
           }
          ],
          "scatterternary": [
           {
            "marker": {
             "colorbar": {
              "outlinewidth": 0,
              "ticks": ""
             }
            },
            "type": "scatterternary"
           }
          ],
          "surface": [
           {
            "colorbar": {
             "outlinewidth": 0,
             "ticks": ""
            },
            "colorscale": [
             [
              0,
              "#0d0887"
             ],
             [
              0.1111111111111111,
              "#46039f"
             ],
             [
              0.2222222222222222,
              "#7201a8"
             ],
             [
              0.3333333333333333,
              "#9c179e"
             ],
             [
              0.4444444444444444,
              "#bd3786"
             ],
             [
              0.5555555555555556,
              "#d8576b"
             ],
             [
              0.6666666666666666,
              "#ed7953"
             ],
             [
              0.7777777777777778,
              "#fb9f3a"
             ],
             [
              0.8888888888888888,
              "#fdca26"
             ],
             [
              1,
              "#f0f921"
             ]
            ],
            "type": "surface"
           }
          ],
          "table": [
           {
            "cells": {
             "fill": {
              "color": "#EBF0F8"
             },
             "line": {
              "color": "white"
             }
            },
            "header": {
             "fill": {
              "color": "#C8D4E3"
             },
             "line": {
              "color": "white"
             }
            },
            "type": "table"
           }
          ]
         },
         "layout": {
          "annotationdefaults": {
           "arrowcolor": "#2a3f5f",
           "arrowhead": 0,
           "arrowwidth": 1
          },
          "autotypenumbers": "strict",
          "coloraxis": {
           "colorbar": {
            "outlinewidth": 0,
            "ticks": ""
           }
          },
          "colorscale": {
           "diverging": [
            [
             0,
             "#8e0152"
            ],
            [
             0.1,
             "#c51b7d"
            ],
            [
             0.2,
             "#de77ae"
            ],
            [
             0.3,
             "#f1b6da"
            ],
            [
             0.4,
             "#fde0ef"
            ],
            [
             0.5,
             "#f7f7f7"
            ],
            [
             0.6,
             "#e6f5d0"
            ],
            [
             0.7,
             "#b8e186"
            ],
            [
             0.8,
             "#7fbc41"
            ],
            [
             0.9,
             "#4d9221"
            ],
            [
             1,
             "#276419"
            ]
           ],
           "sequential": [
            [
             0,
             "#0d0887"
            ],
            [
             0.1111111111111111,
             "#46039f"
            ],
            [
             0.2222222222222222,
             "#7201a8"
            ],
            [
             0.3333333333333333,
             "#9c179e"
            ],
            [
             0.4444444444444444,
             "#bd3786"
            ],
            [
             0.5555555555555556,
             "#d8576b"
            ],
            [
             0.6666666666666666,
             "#ed7953"
            ],
            [
             0.7777777777777778,
             "#fb9f3a"
            ],
            [
             0.8888888888888888,
             "#fdca26"
            ],
            [
             1,
             "#f0f921"
            ]
           ],
           "sequentialminus": [
            [
             0,
             "#0d0887"
            ],
            [
             0.1111111111111111,
             "#46039f"
            ],
            [
             0.2222222222222222,
             "#7201a8"
            ],
            [
             0.3333333333333333,
             "#9c179e"
            ],
            [
             0.4444444444444444,
             "#bd3786"
            ],
            [
             0.5555555555555556,
             "#d8576b"
            ],
            [
             0.6666666666666666,
             "#ed7953"
            ],
            [
             0.7777777777777778,
             "#fb9f3a"
            ],
            [
             0.8888888888888888,
             "#fdca26"
            ],
            [
             1,
             "#f0f921"
            ]
           ]
          },
          "colorway": [
           "#636efa",
           "#EF553B",
           "#00cc96",
           "#ab63fa",
           "#FFA15A",
           "#19d3f3",
           "#FF6692",
           "#B6E880",
           "#FF97FF",
           "#FECB52"
          ],
          "font": {
           "color": "#2a3f5f"
          },
          "geo": {
           "bgcolor": "white",
           "lakecolor": "white",
           "landcolor": "#E5ECF6",
           "showlakes": true,
           "showland": true,
           "subunitcolor": "white"
          },
          "hoverlabel": {
           "align": "left"
          },
          "hovermode": "closest",
          "mapbox": {
           "style": "light"
          },
          "paper_bgcolor": "white",
          "plot_bgcolor": "#E5ECF6",
          "polar": {
           "angularaxis": {
            "gridcolor": "white",
            "linecolor": "white",
            "ticks": ""
           },
           "bgcolor": "#E5ECF6",
           "radialaxis": {
            "gridcolor": "white",
            "linecolor": "white",
            "ticks": ""
           }
          },
          "scene": {
           "xaxis": {
            "backgroundcolor": "#E5ECF6",
            "gridcolor": "white",
            "gridwidth": 2,
            "linecolor": "white",
            "showbackground": true,
            "ticks": "",
            "zerolinecolor": "white"
           },
           "yaxis": {
            "backgroundcolor": "#E5ECF6",
            "gridcolor": "white",
            "gridwidth": 2,
            "linecolor": "white",
            "showbackground": true,
            "ticks": "",
            "zerolinecolor": "white"
           },
           "zaxis": {
            "backgroundcolor": "#E5ECF6",
            "gridcolor": "white",
            "gridwidth": 2,
            "linecolor": "white",
            "showbackground": true,
            "ticks": "",
            "zerolinecolor": "white"
           }
          },
          "shapedefaults": {
           "line": {
            "color": "#2a3f5f"
           }
          },
          "ternary": {
           "aaxis": {
            "gridcolor": "white",
            "linecolor": "white",
            "ticks": ""
           },
           "baxis": {
            "gridcolor": "white",
            "linecolor": "white",
            "ticks": ""
           },
           "bgcolor": "#E5ECF6",
           "caxis": {
            "gridcolor": "white",
            "linecolor": "white",
            "ticks": ""
           }
          },
          "title": {
           "x": 0.05
          },
          "xaxis": {
           "automargin": true,
           "gridcolor": "white",
           "linecolor": "white",
           "ticks": "",
           "title": {
            "standoff": 15
           },
           "zerolinecolor": "white",
           "zerolinewidth": 2
          },
          "yaxis": {
           "automargin": true,
           "gridcolor": "white",
           "linecolor": "white",
           "ticks": "",
           "title": {
            "standoff": 15
           },
           "zerolinecolor": "white",
           "zerolinewidth": 2
          }
         }
        },
        "title": {
         "text": "All Player Archetypes Comparison (Scaled Features)"
        },
        "width": 800
       }
      }
     },
     "metadata": {},
     "output_type": "display_data"
    }
   ],
   "source": [
    "import plotly.express as px\n",
    "import pandas as pd\n",
    "from sklearn.preprocessing import MinMaxScaler\n",
    "\n",
    "# --- Ensure these variables are defined ---\n",
    "# (As provided in the previous prompt, assuming they are correctly set up earlier)\n",
    "# df, final_k_value, archetype_mapping, features_for_clustering\n",
    "\n",
    "# --- Re-prepare the scaled cluster means DataFrame for plotting ---\n",
    "cluster_means_for_plotting = df.groupby('Archetype_Name')[features_for_clustering].mean()\n",
    "\n",
    "radar_features = [\n",
    "    'PTS_per36', 'AST_per36', 'TRB_per36', '3P_per36', 'BLK_per36',\n",
    "    'STL_per36', 'TOV_per36', 'eFG%'\n",
    "]\n",
    "\n",
    "scaler_radar = MinMaxScaler()\n",
    "scaled_radar_data = scaler_radar.fit_transform(cluster_means_for_plotting[radar_features])\n",
    "scaled_radar_df = pd.DataFrame(scaled_radar_data, columns=radar_features, index=cluster_means_for_plotting.index)\n",
    "\n",
    "print(\"\\nScaled data for radar charts (first 5 archetypes):\")\n",
    "print(scaled_radar_df.head())\n",
    "\n",
    "# --- CRUCIAL FIX: Melt the DataFrame for Plotly Express ---\n",
    "# This transforms the 'wide' scaled_radar_df into a 'long' format\n",
    "# where features become rows, and their values are in a single 'value' column.\n",
    "# This is required when 'r' and 'theta' are single column names.\n",
    "\n",
    "# Reset index to make Archetype_Name a regular column before melting\n",
    "df_long_format = scaled_radar_df.reset_index().melt(\n",
    "    id_vars=['Archetype_Name'], # Keep Archetype_Name as identifier\n",
    "    value_vars=radar_features,  # Columns to \"unpivot\"\n",
    "    var_name='Statistic',       # New column name for feature names (theta)\n",
    "    value_name='Scaled_Value'   # New column name for scaled values (r)\n",
    ")\n",
    "\n",
    "print(\"\\nMelted data for radar charts (first 5 rows):\")\n",
    "print(df_long_format.head())\n",
    "\n",
    "\n",
    "# --- Plotting Options with Plotly Express (Updated) ---\n",
    "\n",
    "# Option 1: Plot all archetypes on one interactive radar chart\n",
    "fig_all = px.line_polar(\n",
    "    df_long_format,            # Use the long-format DataFrame\n",
    "    r='Scaled_Value',          # Single column for values (radius)\n",
    "    theta='Statistic',         # Single column for categories (angle)\n",
    "    line_close=True,\n",
    "    color='Archetype_Name',\n",
    "    title='All Player Archetypes Comparison (Scaled Features)',\n",
    "    labels={'Scaled_Value': 'Scaled Value (0-1)', 'Statistic': 'Statistic'},\n",
    "    height=600,\n",
    "    width=800\n",
    ")\n",
    "fig_all.update_traces(fill='toself')\n",
    "fig_all.show()\n",
    "\n",
    "\n",
    "# # Option 2: Plot specific archetypes for focused comparisons (Updated)\n",
    "# archetype_groups_to_compare = {\n",
    "#     \"Top Offensive Engines\": [\n",
    "#         \"All-around high-usage bigs\",\n",
    "#         \"High-impact playmaking scorers\",\n",
    "#         \"High-volume perimeter playmakers\",\n",
    "#         \"Ultra-High Usage Lead Guards / Offensive Maestros\"\n",
    "#     ],\n",
    "#     \"Defensive Specialists\": [\n",
    "#         \"Mid-size defensive forwards\",\n",
    "#         \"Low-scoring, playmaking defensive wings\",\n",
    "#         \"Efficient rebounding paint protectors\",\n",
    "#         \"Low-volume defensive playmakers\"\n",
    "#     ],\n",
    "#     \"Shooters & Reserves\": [\n",
    "#         \"Off-ball 3&D three-point shooters\",\n",
    "#         \"Midcourt 3&D reserves\",\n",
    "#         \"All-around offensive shooters\"\n",
    "#     ],\n",
    "# }\n",
    "\n",
    "# for group_name, archetypes_in_group in archetype_groups_to_compare.items():\n",
    "#     # Filter the long-format DataFrame for the current group\n",
    "#     df_group_plot_long = df_long_format[df_long_format['Archetype_Name'].isin(archetypes_in_group)]\n",
    "\n",
    "#     if not df_group_plot_long.empty:\n",
    "#         fig_group = px.line_polar(\n",
    "#             df_group_plot_long, # Use the filtered long-format DataFrame\n",
    "#             r='Scaled_Value',\n",
    "#             theta='Statistic',\n",
    "#             line_close=True,\n",
    "#             color='Archetype_Name',\n",
    "#             title=f'Comparison: {group_name} Archetypes (Scaled Features)',\n",
    "#             labels={'Scaled_Value': 'Scaled Value (0-1)', 'Statistic': 'Statistic'},\n",
    "#             height=600,\n",
    "#             width=800\n",
    "#         )\n",
    "#         fig_group.update_traces(fill='toself')\n",
    "#         fig_group.show()\n",
    "#     else:\n",
    "#         print(f\"Skipping group '{group_name}' as some archetypes were not found in the data.\")"
   ]
  },
  {
   "cell_type": "code",
   "execution_count": 39,
   "metadata": {},
   "outputs": [
    {
     "name": "stdout",
     "output_type": "stream",
     "text": [
      "\n",
      "Scaled data for radar charts (first 5 archetypes):\n",
      "                                       PTS_per36  AST_per36  TRB_per36  \\\n",
      "Archetype_Name                                                           \n",
      "All-around high-usage bigs              0.972862   0.761116   0.704015   \n",
      "Efficient mid-size scorers              0.620121   0.263607   0.097941   \n",
      "Efficient rebounding paint protectors   0.121205   0.000000   1.000000   \n",
      "High-impact playmaking scorers          1.000000   1.000000   0.325170   \n",
      "High-volume perimeter playmakers        0.521669   0.807875   0.084535   \n",
      "\n",
      "                                       3P_per36  BLK_per36  STL_per36  \\\n",
      "Archetype_Name                                                          \n",
      "All-around high-usage bigs             0.245970   0.427469   0.384828   \n",
      "Efficient mid-size scorers             0.613304   0.000000   0.090506   \n",
      "Efficient rebounding paint protectors  0.000000   1.000000   0.095234   \n",
      "High-impact playmaking scorers         1.000000   0.041108   0.216341   \n",
      "High-volume perimeter playmakers       0.809675   0.042529   0.277741   \n",
      "\n",
      "                                       TOV_per36      eFG%  \n",
      "Archetype_Name                                              \n",
      "All-around high-usage bigs              0.936157  0.555527  \n",
      "Efficient mid-size scorers              0.413986  0.196029  \n",
      "Efficient rebounding paint protectors   0.283143  1.000000  \n",
      "High-impact playmaking scorers          1.000000  0.373872  \n",
      "High-volume perimeter playmakers        0.720092  0.127194  \n"
     ]
    },
    {
     "data": {
      "application/vnd.plotly.v1+json": {
       "config": {
        "plotlyServerURL": "https://plot.ly"
       },
       "data": [
        {
         "fill": "toself",
         "line": {
          "color": "blue"
         },
         "mode": "lines",
         "name": "All-around high-usage bigs",
         "r": [
          0.9728620881815446,
          0.7611163922447509,
          0.7040148078828181,
          0.24597034087864728,
          0.42746929280016505,
          0.38482832441582004,
          0.9361567734751199,
          0.5555265826452276,
          0.9728620881815446
         ],
         "subplot": "polar",
         "theta": [
          "PTS_per36",
          "AST_per36",
          "TRB_per36",
          "3P_per36",
          "BLK_per36",
          "STL_per36",
          "TOV_per36",
          "eFG%",
          "PTS_per36"
         ],
         "type": "scatterpolar"
        },
        {
         "fill": "toself",
         "line": {
          "color": "blue"
         },
         "mode": "lines",
         "name": "Efficient mid-size scorers",
         "r": [
          0.6201209383813486,
          0.26360731591219466,
          0.09794094334388881,
          0.6133044826697396,
          0,
          0.0905055347078737,
          0.41398560381803834,
          0.19602939433447997,
          0.6201209383813486
         ],
         "subplot": "polar2",
         "theta": [
          "PTS_per36",
          "AST_per36",
          "TRB_per36",
          "3P_per36",
          "BLK_per36",
          "STL_per36",
          "TOV_per36",
          "eFG%",
          "PTS_per36"
         ],
         "type": "scatterpolar"
        },
        {
         "fill": "toself",
         "line": {
          "color": "blue"
         },
         "mode": "lines",
         "name": "Efficient rebounding paint protectors",
         "r": [
          0.12120463738838594,
          0,
          1,
          0,
          1,
          0.09523363086429792,
          0.28314269274982057,
          1,
          0.12120463738838594
         ],
         "subplot": "polar3",
         "theta": [
          "PTS_per36",
          "AST_per36",
          "TRB_per36",
          "3P_per36",
          "BLK_per36",
          "STL_per36",
          "TOV_per36",
          "eFG%",
          "PTS_per36"
         ],
         "type": "scatterpolar"
        },
        {
         "fill": "toself",
         "line": {
          "color": "blue"
         },
         "mode": "lines",
         "name": "High-impact playmaking scorers",
         "r": [
          1,
          0.9999999999999999,
          0.32517049946351917,
          1,
          0.041107917014309436,
          0.216341436618109,
          1.0000000000000002,
          0.37387222946544973,
          1
         ],
         "subplot": "polar4",
         "theta": [
          "PTS_per36",
          "AST_per36",
          "TRB_per36",
          "3P_per36",
          "BLK_per36",
          "STL_per36",
          "TOV_per36",
          "eFG%",
          "PTS_per36"
         ],
         "type": "scatterpolar"
        },
        {
         "fill": "toself",
         "line": {
          "color": "blue"
         },
         "mode": "lines",
         "name": "High-volume perimeter playmakers",
         "r": [
          0.521669041529111,
          0.8078750775305105,
          0.08453465244653457,
          0.809675240436395,
          0.04252892193116062,
          0.27774101275971275,
          0.7200917071282085,
          0.1271941261236531,
          0.521669041529111
         ],
         "subplot": "polar5",
         "theta": [
          "PTS_per36",
          "AST_per36",
          "TRB_per36",
          "3P_per36",
          "BLK_per36",
          "STL_per36",
          "TOV_per36",
          "eFG%",
          "PTS_per36"
         ],
         "type": "scatterpolar"
        },
        {
         "fill": "toself",
         "line": {
          "color": "blue"
         },
         "mode": "lines",
         "name": "High-volume, versatile scorers",
         "r": [
          0.7280572727918839,
          0.6386789435748198,
          0.40264958742533485,
          0.6242135625827377,
          0.16540924936212004,
          0.15077948174751532,
          0.7973817103538987,
          0.24168970013037772,
          0.7280572727918839
         ],
         "subplot": "polar6",
         "theta": [
          "PTS_per36",
          "AST_per36",
          "TRB_per36",
          "3P_per36",
          "BLK_per36",
          "STL_per36",
          "TOV_per36",
          "eFG%",
          "PTS_per36"
         ],
         "type": "scatterpolar"
        },
        {
         "fill": "toself",
         "line": {
          "color": "blue"
         },
         "mode": "lines",
         "name": "Low-scoring, playmaking defensive wings",
         "r": [
          0,
          0.2572468528121302,
          0.4635706058638489,
          0.24327470298476078,
          0.26539890669584787,
          1,
          0.22816435594232382,
          0.2669376485926831,
          0
         ],
         "subplot": "polar7",
         "theta": [
          "PTS_per36",
          "AST_per36",
          "TRB_per36",
          "3P_per36",
          "BLK_per36",
          "STL_per36",
          "TOV_per36",
          "eFG%",
          "PTS_per36"
         ],
         "type": "scatterpolar"
        },
        {
         "fill": "toself",
         "line": {
          "color": "blue"
         },
         "mode": "lines",
         "name": "Low-volume defensive playmakers",
         "r": [
          0.25676014445809225,
          0.7108822057405858,
          0.14032479421577915,
          0.34856752743942276,
          0.11400683990598381,
          0.5951037748287121,
          0.506203938920281,
          0,
          0.25676014445809225
         ],
         "subplot": "polar8",
         "theta": [
          "PTS_per36",
          "AST_per36",
          "TRB_per36",
          "3P_per36",
          "BLK_per36",
          "STL_per36",
          "TOV_per36",
          "eFG%",
          "PTS_per36"
         ],
         "type": "scatterpolar"
        },
        {
         "fill": "toself",
         "line": {
          "color": "blue"
         },
         "mode": "lines",
         "name": "Mid-size defensive forwards",
         "r": [
          0.2265735675443159,
          0.08091182581810746,
          0.5357878743831748,
          0.4064695773859847,
          0.2766598541537559,
          0.14273833662230284,
          0.2545600975248458,
          0.23414457482254125,
          0.2265735675443159
         ],
         "subplot": "polar9",
         "theta": [
          "PTS_per36",
          "AST_per36",
          "TRB_per36",
          "3P_per36",
          "BLK_per36",
          "STL_per36",
          "TOV_per36",
          "eFG%",
          "PTS_per36"
         ],
         "type": "scatterpolar"
        },
        {
         "fill": "toself",
         "line": {
          "color": "blue"
         },
         "mode": "lines",
         "name": "Midcourt 3&D reserves",
         "r": [
          0.0611423695380644,
          0.020191486877453257,
          0.1877904381636083,
          0.6231847691936506,
          0.1584302608258596,
          0.0470082590119939,
          0,
          0.2389758076198749,
          0.0611423695380644
         ],
         "subplot": "polar10",
         "theta": [
          "PTS_per36",
          "AST_per36",
          "TRB_per36",
          "3P_per36",
          "BLK_per36",
          "STL_per36",
          "TOV_per36",
          "eFG%",
          "PTS_per36"
         ],
         "type": "scatterpolar"
        },
        {
         "fill": "toself",
         "line": {
          "color": "blue"
         },
         "mode": "lines",
         "name": "Off-ball 3&D three-point shooters",
         "r": [
          0.35430223505890135,
          0.09928691764775527,
          0.1434791295955017,
          0.8767380867202678,
          0.015345540108493372,
          0.14563906640630953,
          0.16434683008618173,
          0.33223283004584303,
          0.35430223505890135
         ],
         "subplot": "polar11",
         "theta": [
          "PTS_per36",
          "AST_per36",
          "TRB_per36",
          "3P_per36",
          "BLK_per36",
          "STL_per36",
          "TOV_per36",
          "eFG%",
          "PTS_per36"
         ],
         "type": "scatterpolar"
        },
        {
         "fill": "toself",
         "line": {
          "color": "blue"
         },
         "mode": "lines",
         "name": "Scoring mobile centers",
         "r": [
          0.4106933018414569,
          0.07918013295634074,
          0.9900046697633005,
          0.16626753916258513,
          0.5613465569247553,
          0,
          0.4515616865353667,
          0.6881124148920765,
          0.4106933018414569
         ],
         "subplot": "polar12",
         "theta": [
          "PTS_per36",
          "AST_per36",
          "TRB_per36",
          "3P_per36",
          "BLK_per36",
          "STL_per36",
          "TOV_per36",
          "eFG%",
          "PTS_per36"
         ],
         "type": "scatterpolar"
        },
        {
         "fill": "toself",
         "line": {
          "color": "blue"
         },
         "mode": "lines",
         "name": "Veteran pure guards",
         "r": [
          0.1612791348121283,
          0.43350033950897926,
          0,
          0.5852827850242224,
          0.023308560620291352,
          0.3472286171524698,
          0.3016779845012732,
          0.12336413279670433,
          0.1612791348121283
         ],
         "subplot": "polar13",
         "theta": [
          "PTS_per36",
          "AST_per36",
          "TRB_per36",
          "3P_per36",
          "BLK_per36",
          "STL_per36",
          "TOV_per36",
          "eFG%",
          "PTS_per36"
         ],
         "type": "scatterpolar"
        }
       ],
       "layout": {
        "annotations": [
         {
          "font": {
           "size": 16
          },
          "showarrow": false,
          "text": "All-around high-usage bigs",
          "x": 0.10625,
          "xanchor": "center",
          "xref": "paper",
          "y": 1,
          "yanchor": "bottom",
          "yref": "paper"
         },
         {
          "font": {
           "size": 16
          },
          "showarrow": false,
          "text": "Efficient mid-size scorers",
          "x": 0.36875,
          "xanchor": "center",
          "xref": "paper",
          "y": 1,
          "yanchor": "bottom",
          "yref": "paper"
         },
         {
          "font": {
           "size": 16
          },
          "showarrow": false,
          "text": "Efficient rebounding paint protectors",
          "x": 0.6312500000000001,
          "xanchor": "center",
          "xref": "paper",
          "y": 1,
          "yanchor": "bottom",
          "yref": "paper"
         },
         {
          "font": {
           "size": 16
          },
          "showarrow": false,
          "text": "High-impact playmaking scorers",
          "x": 0.89375,
          "xanchor": "center",
          "xref": "paper",
          "y": 1,
          "yanchor": "bottom",
          "yref": "paper"
         },
         {
          "font": {
           "size": 16
          },
          "showarrow": false,
          "text": "High-volume perimeter playmakers",
          "x": 0.10625,
          "xanchor": "center",
          "xref": "paper",
          "y": 0.73,
          "yanchor": "bottom",
          "yref": "paper"
         },
         {
          "font": {
           "size": 16
          },
          "showarrow": false,
          "text": "High-volume, versatile scorers",
          "x": 0.36875,
          "xanchor": "center",
          "xref": "paper",
          "y": 0.73,
          "yanchor": "bottom",
          "yref": "paper"
         },
         {
          "font": {
           "size": 16
          },
          "showarrow": false,
          "text": "Low-scoring, playmaking defensive wings",
          "x": 0.6312500000000001,
          "xanchor": "center",
          "xref": "paper",
          "y": 0.73,
          "yanchor": "bottom",
          "yref": "paper"
         },
         {
          "font": {
           "size": 16
          },
          "showarrow": false,
          "text": "Low-volume defensive playmakers",
          "x": 0.89375,
          "xanchor": "center",
          "xref": "paper",
          "y": 0.73,
          "yanchor": "bottom",
          "yref": "paper"
         },
         {
          "font": {
           "size": 16
          },
          "showarrow": false,
          "text": "Mid-size defensive forwards",
          "x": 0.10625,
          "xanchor": "center",
          "xref": "paper",
          "y": 0.46,
          "yanchor": "bottom",
          "yref": "paper"
         },
         {
          "font": {
           "size": 16
          },
          "showarrow": false,
          "text": "Midcourt 3&D reserves",
          "x": 0.36875,
          "xanchor": "center",
          "xref": "paper",
          "y": 0.46,
          "yanchor": "bottom",
          "yref": "paper"
         },
         {
          "font": {
           "size": 16
          },
          "showarrow": false,
          "text": "Off-ball 3&D three-point shooters",
          "x": 0.6312500000000001,
          "xanchor": "center",
          "xref": "paper",
          "y": 0.46,
          "yanchor": "bottom",
          "yref": "paper"
         },
         {
          "font": {
           "size": 16
          },
          "showarrow": false,
          "text": "Scoring mobile centers",
          "x": 0.89375,
          "xanchor": "center",
          "xref": "paper",
          "y": 0.46,
          "yanchor": "bottom",
          "yref": "paper"
         },
         {
          "font": {
           "size": 16
          },
          "showarrow": false,
          "text": "Veteran pure guards",
          "x": 0.10625,
          "xanchor": "center",
          "xref": "paper",
          "y": 0.19,
          "yanchor": "bottom",
          "yref": "paper"
         }
        ],
        "height": 1200,
        "margin": {
         "b": 50,
         "l": 50,
         "r": 50,
         "t": 50
        },
        "polar": {
         "angularaxis": {
          "direction": "clockwise",
          "rotation": 90,
          "ticktext": [
           "PTS_per36",
           "AST_per36",
           "TRB_per36",
           "3P_per36",
           "BLK_per36",
           "STL_per36",
           "TOV_per36",
           "eFG%"
          ],
          "tickvals": [
           0,
           45,
           90,
           135,
           180,
           225,
           270,
           315
          ]
         },
         "domain": {
          "x": [
           0,
           0.2125
          ],
          "y": [
           0.81,
           1
          ]
         },
         "radialaxis": {
          "range": [
           0,
           1
          ],
          "showticklabels": true,
          "ticks": "outside",
          "ticktext": [
           "0",
           "0.25",
           "0.5",
           "0.75",
           "1"
          ],
          "tickvals": [
           0,
           0.25,
           0.5,
           0.75,
           1
          ],
          "visible": true
         }
        },
        "polar10": {
         "angularaxis": {
          "direction": "clockwise",
          "rotation": 90,
          "ticktext": [
           "PTS_per36",
           "AST_per36",
           "TRB_per36",
           "3P_per36",
           "BLK_per36",
           "STL_per36",
           "TOV_per36",
           "eFG%"
          ],
          "tickvals": [
           0,
           45,
           90,
           135,
           180,
           225,
           270,
           315
          ]
         },
         "domain": {
          "x": [
           0.2625,
           0.475
          ],
          "y": [
           0.27,
           0.46
          ]
         },
         "radialaxis": {
          "range": [
           0,
           1
          ],
          "ticktext": [
           "0",
           "0.25",
           "0.5",
           "0.75",
           "1"
          ],
          "tickvals": [
           0,
           0.25,
           0.5,
           0.75,
           1
          ],
          "visible": true
         }
        },
        "polar11": {
         "angularaxis": {
          "direction": "clockwise",
          "rotation": 90,
          "ticktext": [
           "PTS_per36",
           "AST_per36",
           "TRB_per36",
           "3P_per36",
           "BLK_per36",
           "STL_per36",
           "TOV_per36",
           "eFG%"
          ],
          "tickvals": [
           0,
           45,
           90,
           135,
           180,
           225,
           270,
           315
          ]
         },
         "domain": {
          "x": [
           0.525,
           0.7375
          ],
          "y": [
           0.27,
           0.46
          ]
         },
         "radialaxis": {
          "range": [
           0,
           1
          ],
          "ticktext": [
           "0",
           "0.25",
           "0.5",
           "0.75",
           "1"
          ],
          "tickvals": [
           0,
           0.25,
           0.5,
           0.75,
           1
          ],
          "visible": true
         }
        },
        "polar12": {
         "angularaxis": {
          "direction": "clockwise",
          "rotation": 90,
          "ticktext": [
           "PTS_per36",
           "AST_per36",
           "TRB_per36",
           "3P_per36",
           "BLK_per36",
           "STL_per36",
           "TOV_per36",
           "eFG%"
          ],
          "tickvals": [
           0,
           45,
           90,
           135,
           180,
           225,
           270,
           315
          ]
         },
         "domain": {
          "x": [
           0.7875,
           1
          ],
          "y": [
           0.27,
           0.46
          ]
         },
         "radialaxis": {
          "range": [
           0,
           1
          ],
          "ticktext": [
           "0",
           "0.25",
           "0.5",
           "0.75",
           "1"
          ],
          "tickvals": [
           0,
           0.25,
           0.5,
           0.75,
           1
          ],
          "visible": true
         }
        },
        "polar13": {
         "angularaxis": {
          "direction": "clockwise",
          "rotation": 90,
          "ticktext": [
           "PTS_per36",
           "AST_per36",
           "TRB_per36",
           "3P_per36",
           "BLK_per36",
           "STL_per36",
           "TOV_per36",
           "eFG%"
          ],
          "tickvals": [
           0,
           45,
           90,
           135,
           180,
           225,
           270,
           315
          ]
         },
         "domain": {
          "x": [
           0,
           0.2125
          ],
          "y": [
           0,
           0.19
          ]
         },
         "radialaxis": {
          "range": [
           0,
           1
          ],
          "ticktext": [
           "0",
           "0.25",
           "0.5",
           "0.75",
           "1"
          ],
          "tickvals": [
           0,
           0.25,
           0.5,
           0.75,
           1
          ],
          "visible": true
         }
        },
        "polar14": {
         "domain": {
          "x": [
           0.2625,
           0.475
          ],
          "y": [
           0,
           0.19
          ]
         }
        },
        "polar15": {
         "domain": {
          "x": [
           0.525,
           0.7375
          ],
          "y": [
           0,
           0.19
          ]
         }
        },
        "polar16": {
         "domain": {
          "x": [
           0.7875,
           1
          ],
          "y": [
           0,
           0.19
          ]
         }
        },
        "polar2": {
         "angularaxis": {
          "direction": "clockwise",
          "rotation": 90,
          "ticktext": [
           "PTS_per36",
           "AST_per36",
           "TRB_per36",
           "3P_per36",
           "BLK_per36",
           "STL_per36",
           "TOV_per36",
           "eFG%"
          ],
          "tickvals": [
           0,
           45,
           90,
           135,
           180,
           225,
           270,
           315
          ]
         },
         "domain": {
          "x": [
           0.2625,
           0.475
          ],
          "y": [
           0.81,
           1
          ]
         },
         "radialaxis": {
          "range": [
           0,
           1
          ],
          "ticktext": [
           "0",
           "0.25",
           "0.5",
           "0.75",
           "1"
          ],
          "tickvals": [
           0,
           0.25,
           0.5,
           0.75,
           1
          ],
          "visible": true
         }
        },
        "polar3": {
         "angularaxis": {
          "direction": "clockwise",
          "rotation": 90,
          "ticktext": [
           "PTS_per36",
           "AST_per36",
           "TRB_per36",
           "3P_per36",
           "BLK_per36",
           "STL_per36",
           "TOV_per36",
           "eFG%"
          ],
          "tickvals": [
           0,
           45,
           90,
           135,
           180,
           225,
           270,
           315
          ]
         },
         "domain": {
          "x": [
           0.525,
           0.7375
          ],
          "y": [
           0.81,
           1
          ]
         },
         "radialaxis": {
          "range": [
           0,
           1
          ],
          "ticktext": [
           "0",
           "0.25",
           "0.5",
           "0.75",
           "1"
          ],
          "tickvals": [
           0,
           0.25,
           0.5,
           0.75,
           1
          ],
          "visible": true
         }
        },
        "polar4": {
         "angularaxis": {
          "direction": "clockwise",
          "rotation": 90,
          "ticktext": [
           "PTS_per36",
           "AST_per36",
           "TRB_per36",
           "3P_per36",
           "BLK_per36",
           "STL_per36",
           "TOV_per36",
           "eFG%"
          ],
          "tickvals": [
           0,
           45,
           90,
           135,
           180,
           225,
           270,
           315
          ]
         },
         "domain": {
          "x": [
           0.7875,
           1
          ],
          "y": [
           0.81,
           1
          ]
         },
         "radialaxis": {
          "range": [
           0,
           1
          ],
          "ticktext": [
           "0",
           "0.25",
           "0.5",
           "0.75",
           "1"
          ],
          "tickvals": [
           0,
           0.25,
           0.5,
           0.75,
           1
          ],
          "visible": true
         }
        },
        "polar5": {
         "angularaxis": {
          "direction": "clockwise",
          "rotation": 90,
          "ticktext": [
           "PTS_per36",
           "AST_per36",
           "TRB_per36",
           "3P_per36",
           "BLK_per36",
           "STL_per36",
           "TOV_per36",
           "eFG%"
          ],
          "tickvals": [
           0,
           45,
           90,
           135,
           180,
           225,
           270,
           315
          ]
         },
         "domain": {
          "x": [
           0,
           0.2125
          ],
          "y": [
           0.54,
           0.73
          ]
         },
         "radialaxis": {
          "range": [
           0,
           1
          ],
          "ticktext": [
           "0",
           "0.25",
           "0.5",
           "0.75",
           "1"
          ],
          "tickvals": [
           0,
           0.25,
           0.5,
           0.75,
           1
          ],
          "visible": true
         }
        },
        "polar6": {
         "angularaxis": {
          "direction": "clockwise",
          "rotation": 90,
          "ticktext": [
           "PTS_per36",
           "AST_per36",
           "TRB_per36",
           "3P_per36",
           "BLK_per36",
           "STL_per36",
           "TOV_per36",
           "eFG%"
          ],
          "tickvals": [
           0,
           45,
           90,
           135,
           180,
           225,
           270,
           315
          ]
         },
         "domain": {
          "x": [
           0.2625,
           0.475
          ],
          "y": [
           0.54,
           0.73
          ]
         },
         "radialaxis": {
          "range": [
           0,
           1
          ],
          "ticktext": [
           "0",
           "0.25",
           "0.5",
           "0.75",
           "1"
          ],
          "tickvals": [
           0,
           0.25,
           0.5,
           0.75,
           1
          ],
          "visible": true
         }
        },
        "polar7": {
         "angularaxis": {
          "direction": "clockwise",
          "rotation": 90,
          "ticktext": [
           "PTS_per36",
           "AST_per36",
           "TRB_per36",
           "3P_per36",
           "BLK_per36",
           "STL_per36",
           "TOV_per36",
           "eFG%"
          ],
          "tickvals": [
           0,
           45,
           90,
           135,
           180,
           225,
           270,
           315
          ]
         },
         "domain": {
          "x": [
           0.525,
           0.7375
          ],
          "y": [
           0.54,
           0.73
          ]
         },
         "radialaxis": {
          "range": [
           0,
           1
          ],
          "ticktext": [
           "0",
           "0.25",
           "0.5",
           "0.75",
           "1"
          ],
          "tickvals": [
           0,
           0.25,
           0.5,
           0.75,
           1
          ],
          "visible": true
         }
        },
        "polar8": {
         "angularaxis": {
          "direction": "clockwise",
          "rotation": 90,
          "ticktext": [
           "PTS_per36",
           "AST_per36",
           "TRB_per36",
           "3P_per36",
           "BLK_per36",
           "STL_per36",
           "TOV_per36",
           "eFG%"
          ],
          "tickvals": [
           0,
           45,
           90,
           135,
           180,
           225,
           270,
           315
          ]
         },
         "domain": {
          "x": [
           0.7875,
           1
          ],
          "y": [
           0.54,
           0.73
          ]
         },
         "radialaxis": {
          "range": [
           0,
           1
          ],
          "ticktext": [
           "0",
           "0.25",
           "0.5",
           "0.75",
           "1"
          ],
          "tickvals": [
           0,
           0.25,
           0.5,
           0.75,
           1
          ],
          "visible": true
         }
        },
        "polar9": {
         "angularaxis": {
          "direction": "clockwise",
          "rotation": 90,
          "ticktext": [
           "PTS_per36",
           "AST_per36",
           "TRB_per36",
           "3P_per36",
           "BLK_per36",
           "STL_per36",
           "TOV_per36",
           "eFG%"
          ],
          "tickvals": [
           0,
           45,
           90,
           135,
           180,
           225,
           270,
           315
          ]
         },
         "domain": {
          "x": [
           0,
           0.2125
          ],
          "y": [
           0.27,
           0.46
          ]
         },
         "radialaxis": {
          "range": [
           0,
           1
          ],
          "ticktext": [
           "0",
           "0.25",
           "0.5",
           "0.75",
           "1"
          ],
          "tickvals": [
           0,
           0.25,
           0.5,
           0.75,
           1
          ],
          "visible": true
         }
        },
        "showlegend": false,
        "template": {
         "data": {
          "bar": [
           {
            "error_x": {
             "color": "#2a3f5f"
            },
            "error_y": {
             "color": "#2a3f5f"
            },
            "marker": {
             "line": {
              "color": "#E5ECF6",
              "width": 0.5
             },
             "pattern": {
              "fillmode": "overlay",
              "size": 10,
              "solidity": 0.2
             }
            },
            "type": "bar"
           }
          ],
          "barpolar": [
           {
            "marker": {
             "line": {
              "color": "#E5ECF6",
              "width": 0.5
             },
             "pattern": {
              "fillmode": "overlay",
              "size": 10,
              "solidity": 0.2
             }
            },
            "type": "barpolar"
           }
          ],
          "carpet": [
           {
            "aaxis": {
             "endlinecolor": "#2a3f5f",
             "gridcolor": "white",
             "linecolor": "white",
             "minorgridcolor": "white",
             "startlinecolor": "#2a3f5f"
            },
            "baxis": {
             "endlinecolor": "#2a3f5f",
             "gridcolor": "white",
             "linecolor": "white",
             "minorgridcolor": "white",
             "startlinecolor": "#2a3f5f"
            },
            "type": "carpet"
           }
          ],
          "choropleth": [
           {
            "colorbar": {
             "outlinewidth": 0,
             "ticks": ""
            },
            "type": "choropleth"
           }
          ],
          "contour": [
           {
            "colorbar": {
             "outlinewidth": 0,
             "ticks": ""
            },
            "colorscale": [
             [
              0,
              "#0d0887"
             ],
             [
              0.1111111111111111,
              "#46039f"
             ],
             [
              0.2222222222222222,
              "#7201a8"
             ],
             [
              0.3333333333333333,
              "#9c179e"
             ],
             [
              0.4444444444444444,
              "#bd3786"
             ],
             [
              0.5555555555555556,
              "#d8576b"
             ],
             [
              0.6666666666666666,
              "#ed7953"
             ],
             [
              0.7777777777777778,
              "#fb9f3a"
             ],
             [
              0.8888888888888888,
              "#fdca26"
             ],
             [
              1,
              "#f0f921"
             ]
            ],
            "type": "contour"
           }
          ],
          "contourcarpet": [
           {
            "colorbar": {
             "outlinewidth": 0,
             "ticks": ""
            },
            "type": "contourcarpet"
           }
          ],
          "heatmap": [
           {
            "colorbar": {
             "outlinewidth": 0,
             "ticks": ""
            },
            "colorscale": [
             [
              0,
              "#0d0887"
             ],
             [
              0.1111111111111111,
              "#46039f"
             ],
             [
              0.2222222222222222,
              "#7201a8"
             ],
             [
              0.3333333333333333,
              "#9c179e"
             ],
             [
              0.4444444444444444,
              "#bd3786"
             ],
             [
              0.5555555555555556,
              "#d8576b"
             ],
             [
              0.6666666666666666,
              "#ed7953"
             ],
             [
              0.7777777777777778,
              "#fb9f3a"
             ],
             [
              0.8888888888888888,
              "#fdca26"
             ],
             [
              1,
              "#f0f921"
             ]
            ],
            "type": "heatmap"
           }
          ],
          "histogram": [
           {
            "marker": {
             "pattern": {
              "fillmode": "overlay",
              "size": 10,
              "solidity": 0.2
             }
            },
            "type": "histogram"
           }
          ],
          "histogram2d": [
           {
            "colorbar": {
             "outlinewidth": 0,
             "ticks": ""
            },
            "colorscale": [
             [
              0,
              "#0d0887"
             ],
             [
              0.1111111111111111,
              "#46039f"
             ],
             [
              0.2222222222222222,
              "#7201a8"
             ],
             [
              0.3333333333333333,
              "#9c179e"
             ],
             [
              0.4444444444444444,
              "#bd3786"
             ],
             [
              0.5555555555555556,
              "#d8576b"
             ],
             [
              0.6666666666666666,
              "#ed7953"
             ],
             [
              0.7777777777777778,
              "#fb9f3a"
             ],
             [
              0.8888888888888888,
              "#fdca26"
             ],
             [
              1,
              "#f0f921"
             ]
            ],
            "type": "histogram2d"
           }
          ],
          "histogram2dcontour": [
           {
            "colorbar": {
             "outlinewidth": 0,
             "ticks": ""
            },
            "colorscale": [
             [
              0,
              "#0d0887"
             ],
             [
              0.1111111111111111,
              "#46039f"
             ],
             [
              0.2222222222222222,
              "#7201a8"
             ],
             [
              0.3333333333333333,
              "#9c179e"
             ],
             [
              0.4444444444444444,
              "#bd3786"
             ],
             [
              0.5555555555555556,
              "#d8576b"
             ],
             [
              0.6666666666666666,
              "#ed7953"
             ],
             [
              0.7777777777777778,
              "#fb9f3a"
             ],
             [
              0.8888888888888888,
              "#fdca26"
             ],
             [
              1,
              "#f0f921"
             ]
            ],
            "type": "histogram2dcontour"
           }
          ],
          "mesh3d": [
           {
            "colorbar": {
             "outlinewidth": 0,
             "ticks": ""
            },
            "type": "mesh3d"
           }
          ],
          "parcoords": [
           {
            "line": {
             "colorbar": {
              "outlinewidth": 0,
              "ticks": ""
             }
            },
            "type": "parcoords"
           }
          ],
          "pie": [
           {
            "automargin": true,
            "type": "pie"
           }
          ],
          "scatter": [
           {
            "fillpattern": {
             "fillmode": "overlay",
             "size": 10,
             "solidity": 0.2
            },
            "type": "scatter"
           }
          ],
          "scatter3d": [
           {
            "line": {
             "colorbar": {
              "outlinewidth": 0,
              "ticks": ""
             }
            },
            "marker": {
             "colorbar": {
              "outlinewidth": 0,
              "ticks": ""
             }
            },
            "type": "scatter3d"
           }
          ],
          "scattercarpet": [
           {
            "marker": {
             "colorbar": {
              "outlinewidth": 0,
              "ticks": ""
             }
            },
            "type": "scattercarpet"
           }
          ],
          "scattergeo": [
           {
            "marker": {
             "colorbar": {
              "outlinewidth": 0,
              "ticks": ""
             }
            },
            "type": "scattergeo"
           }
          ],
          "scattergl": [
           {
            "marker": {
             "colorbar": {
              "outlinewidth": 0,
              "ticks": ""
             }
            },
            "type": "scattergl"
           }
          ],
          "scattermap": [
           {
            "marker": {
             "colorbar": {
              "outlinewidth": 0,
              "ticks": ""
             }
            },
            "type": "scattermap"
           }
          ],
          "scattermapbox": [
           {
            "marker": {
             "colorbar": {
              "outlinewidth": 0,
              "ticks": ""
             }
            },
            "type": "scattermapbox"
           }
          ],
          "scatterpolar": [
           {
            "marker": {
             "colorbar": {
              "outlinewidth": 0,
              "ticks": ""
             }
            },
            "type": "scatterpolar"
           }
          ],
          "scatterpolargl": [
           {
            "marker": {
             "colorbar": {
              "outlinewidth": 0,
              "ticks": ""
             }
            },
            "type": "scatterpolargl"
           }
          ],
          "scatterternary": [
           {
            "marker": {
             "colorbar": {
              "outlinewidth": 0,
              "ticks": ""
             }
            },
            "type": "scatterternary"
           }
          ],
          "surface": [
           {
            "colorbar": {
             "outlinewidth": 0,
             "ticks": ""
            },
            "colorscale": [
             [
              0,
              "#0d0887"
             ],
             [
              0.1111111111111111,
              "#46039f"
             ],
             [
              0.2222222222222222,
              "#7201a8"
             ],
             [
              0.3333333333333333,
              "#9c179e"
             ],
             [
              0.4444444444444444,
              "#bd3786"
             ],
             [
              0.5555555555555556,
              "#d8576b"
             ],
             [
              0.6666666666666666,
              "#ed7953"
             ],
             [
              0.7777777777777778,
              "#fb9f3a"
             ],
             [
              0.8888888888888888,
              "#fdca26"
             ],
             [
              1,
              "#f0f921"
             ]
            ],
            "type": "surface"
           }
          ],
          "table": [
           {
            "cells": {
             "fill": {
              "color": "#EBF0F8"
             },
             "line": {
              "color": "white"
             }
            },
            "header": {
             "fill": {
              "color": "#C8D4E3"
             },
             "line": {
              "color": "white"
             }
            },
            "type": "table"
           }
          ]
         },
         "layout": {
          "annotationdefaults": {
           "arrowcolor": "#2a3f5f",
           "arrowhead": 0,
           "arrowwidth": 1
          },
          "autotypenumbers": "strict",
          "coloraxis": {
           "colorbar": {
            "outlinewidth": 0,
            "ticks": ""
           }
          },
          "colorscale": {
           "diverging": [
            [
             0,
             "#8e0152"
            ],
            [
             0.1,
             "#c51b7d"
            ],
            [
             0.2,
             "#de77ae"
            ],
            [
             0.3,
             "#f1b6da"
            ],
            [
             0.4,
             "#fde0ef"
            ],
            [
             0.5,
             "#f7f7f7"
            ],
            [
             0.6,
             "#e6f5d0"
            ],
            [
             0.7,
             "#b8e186"
            ],
            [
             0.8,
             "#7fbc41"
            ],
            [
             0.9,
             "#4d9221"
            ],
            [
             1,
             "#276419"
            ]
           ],
           "sequential": [
            [
             0,
             "#0d0887"
            ],
            [
             0.1111111111111111,
             "#46039f"
            ],
            [
             0.2222222222222222,
             "#7201a8"
            ],
            [
             0.3333333333333333,
             "#9c179e"
            ],
            [
             0.4444444444444444,
             "#bd3786"
            ],
            [
             0.5555555555555556,
             "#d8576b"
            ],
            [
             0.6666666666666666,
             "#ed7953"
            ],
            [
             0.7777777777777778,
             "#fb9f3a"
            ],
            [
             0.8888888888888888,
             "#fdca26"
            ],
            [
             1,
             "#f0f921"
            ]
           ],
           "sequentialminus": [
            [
             0,
             "#0d0887"
            ],
            [
             0.1111111111111111,
             "#46039f"
            ],
            [
             0.2222222222222222,
             "#7201a8"
            ],
            [
             0.3333333333333333,
             "#9c179e"
            ],
            [
             0.4444444444444444,
             "#bd3786"
            ],
            [
             0.5555555555555556,
             "#d8576b"
            ],
            [
             0.6666666666666666,
             "#ed7953"
            ],
            [
             0.7777777777777778,
             "#fb9f3a"
            ],
            [
             0.8888888888888888,
             "#fdca26"
            ],
            [
             1,
             "#f0f921"
            ]
           ]
          },
          "colorway": [
           "#636efa",
           "#EF553B",
           "#00cc96",
           "#ab63fa",
           "#FFA15A",
           "#19d3f3",
           "#FF6692",
           "#B6E880",
           "#FF97FF",
           "#FECB52"
          ],
          "font": {
           "color": "#2a3f5f"
          },
          "geo": {
           "bgcolor": "white",
           "lakecolor": "white",
           "landcolor": "#E5ECF6",
           "showlakes": true,
           "showland": true,
           "subunitcolor": "white"
          },
          "hoverlabel": {
           "align": "left"
          },
          "hovermode": "closest",
          "mapbox": {
           "style": "light"
          },
          "paper_bgcolor": "white",
          "plot_bgcolor": "#E5ECF6",
          "polar": {
           "angularaxis": {
            "gridcolor": "white",
            "linecolor": "white",
            "ticks": ""
           },
           "bgcolor": "#E5ECF6",
           "radialaxis": {
            "gridcolor": "white",
            "linecolor": "white",
            "ticks": ""
           }
          },
          "scene": {
           "xaxis": {
            "backgroundcolor": "#E5ECF6",
            "gridcolor": "white",
            "gridwidth": 2,
            "linecolor": "white",
            "showbackground": true,
            "ticks": "",
            "zerolinecolor": "white"
           },
           "yaxis": {
            "backgroundcolor": "#E5ECF6",
            "gridcolor": "white",
            "gridwidth": 2,
            "linecolor": "white",
            "showbackground": true,
            "ticks": "",
            "zerolinecolor": "white"
           },
           "zaxis": {
            "backgroundcolor": "#E5ECF6",
            "gridcolor": "white",
            "gridwidth": 2,
            "linecolor": "white",
            "showbackground": true,
            "ticks": "",
            "zerolinecolor": "white"
           }
          },
          "shapedefaults": {
           "line": {
            "color": "#2a3f5f"
           }
          },
          "ternary": {
           "aaxis": {
            "gridcolor": "white",
            "linecolor": "white",
            "ticks": ""
           },
           "baxis": {
            "gridcolor": "white",
            "linecolor": "white",
            "ticks": ""
           },
           "bgcolor": "#E5ECF6",
           "caxis": {
            "gridcolor": "white",
            "linecolor": "white",
            "ticks": ""
           }
          },
          "title": {
           "x": 0.05
          },
          "xaxis": {
           "automargin": true,
           "gridcolor": "white",
           "linecolor": "white",
           "ticks": "",
           "title": {
            "standoff": 15
           },
           "zerolinecolor": "white",
           "zerolinewidth": 2
          },
          "yaxis": {
           "automargin": true,
           "gridcolor": "white",
           "linecolor": "white",
           "ticks": "",
           "title": {
            "standoff": 15
           },
           "zerolinecolor": "white",
           "zerolinewidth": 2
          }
         }
        },
        "title": {
         "text": "NBA Player Archetype Profiles",
         "x": 0.5
        },
        "width": 1200
       }
      }
     },
     "metadata": {},
     "output_type": "display_data"
    }
   ],
   "source": [
    "import plotly.graph_objects as go\n",
    "from plotly.subplots import make_subplots\n",
    "\n",
    "# --- Ensure these variables are defined ---\n",
    "# Assuming df, final_k_value, archetype_mapping, features_for_clustering are available.\n",
    "\n",
    "# --- Prepare the scaled cluster means DataFrame for plotting ---\n",
    "cluster_means_for_plotting = df.groupby('Archetype_Name')[features_for_clustering].mean()\n",
    "\n",
    "radar_features = [\n",
    "    'PTS_per36', 'AST_per36', 'TRB_per36', '3P_per36', 'BLK_per36',\n",
    "    'STL_per36', 'TOV_per36', 'eFG%'\n",
    "]\n",
    "# Ensure radar_features exist in cluster_means_for_plotting.columns.\n",
    "# If not, you'll get a KeyError.\n",
    "\n",
    "scaler_radar = MinMaxScaler()\n",
    "scaled_radar_data = scaler_radar.fit_transform(cluster_means_for_plotting[radar_features])\n",
    "scaled_radar_df = pd.DataFrame(scaled_radar_data, columns=radar_features, index=cluster_means_for_plotting.index)\n",
    "\n",
    "print(\"\\nScaled data for radar charts (first 5 archetypes):\")\n",
    "print(scaled_radar_df.head())\n",
    "\n",
    "\n",
    "# --- Create Subplots for All 13 Archetypes ---\n",
    "\n",
    "num_archetypes = len(scaled_radar_df)\n",
    "# Determine grid size (e.g., 4 rows, 4 columns for 13 plots, leaves 3 empty)\n",
    "n_cols = 4\n",
    "n_rows = (num_archetypes + n_cols - 1) // n_cols # Calculate rows needed\n",
    "\n",
    "# Prepare subplot titles\n",
    "subplot_titles = [name for name in scaled_radar_df.index]\n",
    "# Pad subplot_titles with empty strings if num_archetypes is not a perfect multiple of n_cols\n",
    "# to fill the grid for make_subplots\n",
    "subplot_titles.extend([''] * (n_rows * n_cols - num_archetypes))\n",
    "\n",
    "\n",
    "fig = make_subplots(\n",
    "    rows=n_rows,\n",
    "    cols=n_cols,\n",
    "    specs=[[{'type': 'polar'}] * n_cols] * n_rows, # Define all subplots as polar type\n",
    "    subplot_titles=subplot_titles, # Add titles below each subplot\n",
    "    vertical_spacing=0.08, # Adjust vertical spacing between subplots\n",
    "    horizontal_spacing=0.05 # Adjust horizontal spacing between subplots\n",
    ")\n",
    "\n",
    "# Loop through each archetype and add a radar trace to its respective subplot\n",
    "for i, archetype_name in enumerate(scaled_radar_df.index):\n",
    "    row = (i // n_cols) + 1\n",
    "    col = (i % n_cols) + 1\n",
    "\n",
    "    # Extract data for the current archetype\n",
    "    archetype_data = scaled_radar_df.loc[archetype_name]\n",
    "    \n",
    "    # Create a Scatterpolar trace\n",
    "    trace = go.Scatterpolar(\n",
    "        r=archetype_data[radar_features].tolist() + [archetype_data[radar_features].tolist()[0]], # Close the polygon\n",
    "        theta=radar_features + [radar_features[0]], # Close the polygon\n",
    "        fill='toself',\n",
    "        name=archetype_name,\n",
    "        mode='lines',\n",
    "        line_color='blue' # You can customize color here or use a color map\n",
    "    )\n",
    "\n",
    "    # Add trace to the subplot\n",
    "    fig.add_trace(trace, row=row, col=col)\n",
    "\n",
    "    # Update radial axis range for consistency across all plots\n",
    "    # Ensures all plots have the same 0-1 scale for easy comparison\n",
    "    fig.update_layout(\n",
    "        polar={\n",
    "            'radialaxis': {'range': [0, 1], 'showticklabels': True, 'ticks': 'outside'}\n",
    "        },\n",
    "        height=n_rows * 300,  # Adjust figure height based on number of rows\n",
    "        width=n_cols * 300,   # Adjust figure width based on number of columns\n",
    "        title_text=\"NBA Player Archetype Profiles\",\n",
    "        showlegend=False # Hide individual trace legends as names are in subplot titles\n",
    "    )\n",
    "\n",
    "    # Update subplot specific layouts\n",
    "    # This loop updates each polar subplot layout individually\n",
    "    # The 'f\"polar{i+1}\"' is how Plotly names the polar subplots in `make_subplots`\n",
    "    fig.update_layout({\n",
    "        f\"polar{i+1}\": {\n",
    "            'radialaxis': {\n",
    "                'visible': True,\n",
    "                'range': [0, 1], # Ensure consistent scale\n",
    "                'tickvals': [0, 0.25, 0.5, 0.75, 1], # Custom tick values\n",
    "                'ticktext': ['0', '0.25', '0.5', '0.75', '1'], # Custom tick labels\n",
    "            },\n",
    "            'angularaxis': {\n",
    "                'rotation': 90, # Start angle at the top\n",
    "                'direction': \"clockwise\", # Go clockwise\n",
    "                'tickvals': [i * (360 / len(radar_features)) for i in range(len(radar_features))],\n",
    "                'ticktext': radar_features # Use feature names as axis labels\n",
    "            }\n",
    "        }\n",
    "    })\n",
    "\n",
    "# Adjust general layout for all subplots\n",
    "fig.update_layout(\n",
    "    title_x=0.5, # Center the main title\n",
    "    margin=dict(t=50, b=50, l=50, r=50), # Adjust margins\n",
    ")\n",
    "\n",
    "\n",
    "fig.show()"
   ]
  },
  {
   "cell_type": "code",
   "execution_count": null,
   "metadata": {},
   "outputs": [],
   "source": []
  },
  {
   "cell_type": "code",
   "execution_count": null,
   "metadata": {},
   "outputs": [],
   "source": []
  },
  {
   "cell_type": "code",
   "execution_count": null,
   "metadata": {},
   "outputs": [],
   "source": []
  }
 ],
 "metadata": {
  "kernelspec": {
   "display_name": "Python 3",
   "language": "python",
   "name": "python3"
  },
  "language_info": {
   "codemirror_mode": {
    "name": "ipython",
    "version": 3
   },
   "file_extension": ".py",
   "mimetype": "text/x-python",
   "name": "python",
   "nbconvert_exporter": "python",
   "pygments_lexer": "ipython3",
   "version": "3.13.4"
  }
 },
 "nbformat": 4,
 "nbformat_minor": 2
}
